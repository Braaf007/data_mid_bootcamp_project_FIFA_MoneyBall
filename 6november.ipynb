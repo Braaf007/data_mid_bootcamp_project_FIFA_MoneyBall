{
 "cells": [
  {
   "cell_type": "markdown",
   "id": "4d57a5cd",
   "metadata": {},
   "source": [
    "1. Import the liberies"
   ]
  },
  {
   "cell_type": "code",
   "execution_count": 207,
   "id": "b7797808",
   "metadata": {},
   "outputs": [],
   "source": [
    "import pandas as pd\n",
    "import numpy as np\n",
    "import matplotlib.pyplot as plt\n",
    "import seaborn as sns\n",
    "import scipy as sp\n",
    "import scipy.stats as stats\n",
    "import warnings\n",
    "\n",
    "from sklearn.linear_model import LinearRegression\n",
    "from sklearn.metrics import mean_squared_error, r2_score, mean_absolute_error\n",
    "import statsmodels.api as sm\n",
    "from statsmodels.formula.api import ols\n",
    "import matplotlib.pyplot as plt\n",
    "warnings.filterwarnings('ignore')\n"
   ]
  },
  {
   "cell_type": "markdown",
   "id": "d76228c0",
   "metadata": {},
   "source": [
    "2. The research question is: What is the correlation between 'overall rating' and 'power' (power, shot power, stamina, jumping, long shot)? And what is the linair regression model? "
   ]
  },
  {
   "cell_type": "markdown",
   "id": "1903a4e6",
   "metadata": {},
   "source": [
    "3. Getting the data"
   ]
  },
  {
   "cell_type": "code",
   "execution_count": 208,
   "id": "01437fc6",
   "metadata": {},
   "outputs": [],
   "source": [
    "data = pd.read_csv('fifa21_male2.csv')"
   ]
  },
  {
   "cell_type": "code",
   "execution_count": 209,
   "id": "19d27ae7",
   "metadata": {
    "scrolled": false
   },
   "outputs": [
    {
     "data": {
      "text/html": [
       "<div>\n",
       "<style scoped>\n",
       "    .dataframe tbody tr th:only-of-type {\n",
       "        vertical-align: middle;\n",
       "    }\n",
       "\n",
       "    .dataframe tbody tr th {\n",
       "        vertical-align: top;\n",
       "    }\n",
       "\n",
       "    .dataframe thead th {\n",
       "        text-align: right;\n",
       "    }\n",
       "</style>\n",
       "<table border=\"1\" class=\"dataframe\">\n",
       "  <thead>\n",
       "    <tr style=\"text-align: right;\">\n",
       "      <th></th>\n",
       "      <th>ID</th>\n",
       "      <th>Name</th>\n",
       "      <th>Age</th>\n",
       "      <th>OVA</th>\n",
       "      <th>Nationality</th>\n",
       "      <th>Club</th>\n",
       "      <th>BOV</th>\n",
       "      <th>BP</th>\n",
       "      <th>Position</th>\n",
       "      <th>Player Photo</th>\n",
       "      <th>...</th>\n",
       "      <th>CDM</th>\n",
       "      <th>RDM</th>\n",
       "      <th>RWB</th>\n",
       "      <th>LB</th>\n",
       "      <th>LCB</th>\n",
       "      <th>CB</th>\n",
       "      <th>RCB</th>\n",
       "      <th>RB</th>\n",
       "      <th>GK</th>\n",
       "      <th>Gender</th>\n",
       "    </tr>\n",
       "  </thead>\n",
       "  <tbody>\n",
       "    <tr>\n",
       "      <th>0</th>\n",
       "      <td>2</td>\n",
       "      <td>G. Pasquale</td>\n",
       "      <td>33</td>\n",
       "      <td>69</td>\n",
       "      <td>Italy</td>\n",
       "      <td>Udinese</td>\n",
       "      <td>71</td>\n",
       "      <td>LWB</td>\n",
       "      <td>LM</td>\n",
       "      <td>https://cdn.sofifa.com/players/000/002/16_120.png</td>\n",
       "      <td>...</td>\n",
       "      <td>70+-1</td>\n",
       "      <td>70+-1</td>\n",
       "      <td>71+-2</td>\n",
       "      <td>70+-1</td>\n",
       "      <td>69+0</td>\n",
       "      <td>69+0</td>\n",
       "      <td>69+0</td>\n",
       "      <td>70+-1</td>\n",
       "      <td>17+0</td>\n",
       "      <td>Male</td>\n",
       "    </tr>\n",
       "    <tr>\n",
       "      <th>1</th>\n",
       "      <td>16</td>\n",
       "      <td>Luis García</td>\n",
       "      <td>37</td>\n",
       "      <td>71</td>\n",
       "      <td>Spain</td>\n",
       "      <td>KAS Eupen</td>\n",
       "      <td>70</td>\n",
       "      <td>CM</td>\n",
       "      <td>CM CAM CDM</td>\n",
       "      <td>https://cdn.sofifa.com/players/000/016/19_120.png</td>\n",
       "      <td>...</td>\n",
       "      <td>66+1</td>\n",
       "      <td>66+1</td>\n",
       "      <td>62+1</td>\n",
       "      <td>60+1</td>\n",
       "      <td>60+1</td>\n",
       "      <td>60+1</td>\n",
       "      <td>60+1</td>\n",
       "      <td>60+1</td>\n",
       "      <td>17+1</td>\n",
       "      <td>Male</td>\n",
       "    </tr>\n",
       "    <tr>\n",
       "      <th>2</th>\n",
       "      <td>27</td>\n",
       "      <td>J. Cole</td>\n",
       "      <td>33</td>\n",
       "      <td>71</td>\n",
       "      <td>England</td>\n",
       "      <td>Coventry City</td>\n",
       "      <td>71</td>\n",
       "      <td>CAM</td>\n",
       "      <td>CAM RM RW LM</td>\n",
       "      <td>https://cdn.sofifa.com/players/000/027/16_120.png</td>\n",
       "      <td>...</td>\n",
       "      <td>54+0</td>\n",
       "      <td>54+0</td>\n",
       "      <td>52+0</td>\n",
       "      <td>47+0</td>\n",
       "      <td>46+0</td>\n",
       "      <td>46+0</td>\n",
       "      <td>46+0</td>\n",
       "      <td>47+0</td>\n",
       "      <td>15+0</td>\n",
       "      <td>Male</td>\n",
       "    </tr>\n",
       "    <tr>\n",
       "      <th>3</th>\n",
       "      <td>36</td>\n",
       "      <td>D. Yorke</td>\n",
       "      <td>36</td>\n",
       "      <td>68</td>\n",
       "      <td>Trinidad &amp;amp; Tobago</td>\n",
       "      <td>Sunderland</td>\n",
       "      <td>70</td>\n",
       "      <td>ST</td>\n",
       "      <td>NaN</td>\n",
       "      <td>https://cdn.sofifa.com/players/000/036/09_120.png</td>\n",
       "      <td>...</td>\n",
       "      <td>65+0</td>\n",
       "      <td>65+0</td>\n",
       "      <td>56+0</td>\n",
       "      <td>57+0</td>\n",
       "      <td>51+0</td>\n",
       "      <td>51+0</td>\n",
       "      <td>51+0</td>\n",
       "      <td>57+0</td>\n",
       "      <td>22+0</td>\n",
       "      <td>Male</td>\n",
       "    </tr>\n",
       "    <tr>\n",
       "      <th>4</th>\n",
       "      <td>41</td>\n",
       "      <td>Iniesta</td>\n",
       "      <td>36</td>\n",
       "      <td>81</td>\n",
       "      <td>Spain</td>\n",
       "      <td>Vissel Kobe</td>\n",
       "      <td>82</td>\n",
       "      <td>CAM</td>\n",
       "      <td>CM CAM</td>\n",
       "      <td>https://cdn.sofifa.com/players/000/041/20_120.png</td>\n",
       "      <td>...</td>\n",
       "      <td>73+3</td>\n",
       "      <td>73+3</td>\n",
       "      <td>70+3</td>\n",
       "      <td>67+3</td>\n",
       "      <td>64+3</td>\n",
       "      <td>64+3</td>\n",
       "      <td>64+3</td>\n",
       "      <td>67+3</td>\n",
       "      <td>17+3</td>\n",
       "      <td>Male</td>\n",
       "    </tr>\n",
       "    <tr>\n",
       "      <th>...</th>\n",
       "      <td>...</td>\n",
       "      <td>...</td>\n",
       "      <td>...</td>\n",
       "      <td>...</td>\n",
       "      <td>...</td>\n",
       "      <td>...</td>\n",
       "      <td>...</td>\n",
       "      <td>...</td>\n",
       "      <td>...</td>\n",
       "      <td>...</td>\n",
       "      <td>...</td>\n",
       "      <td>...</td>\n",
       "      <td>...</td>\n",
       "      <td>...</td>\n",
       "      <td>...</td>\n",
       "      <td>...</td>\n",
       "      <td>...</td>\n",
       "      <td>...</td>\n",
       "      <td>...</td>\n",
       "      <td>...</td>\n",
       "      <td>...</td>\n",
       "    </tr>\n",
       "    <tr>\n",
       "      <th>17120</th>\n",
       "      <td>259088</td>\n",
       "      <td>A. Medioub</td>\n",
       "      <td>22</td>\n",
       "      <td>64</td>\n",
       "      <td>France</td>\n",
       "      <td>CD Tondela</td>\n",
       "      <td>66</td>\n",
       "      <td>CB</td>\n",
       "      <td>CB</td>\n",
       "      <td>https://cdn.sofifa.com/players/259/088/20_120.png</td>\n",
       "      <td>...</td>\n",
       "      <td>55+2</td>\n",
       "      <td>55+2</td>\n",
       "      <td>54+2</td>\n",
       "      <td>57+2</td>\n",
       "      <td>64+2</td>\n",
       "      <td>64+2</td>\n",
       "      <td>64+2</td>\n",
       "      <td>57+2</td>\n",
       "      <td>12+2</td>\n",
       "      <td>Male</td>\n",
       "    </tr>\n",
       "    <tr>\n",
       "      <th>17121</th>\n",
       "      <td>259090</td>\n",
       "      <td>W. Rickard</td>\n",
       "      <td>18</td>\n",
       "      <td>56</td>\n",
       "      <td>Wales</td>\n",
       "      <td>Burnley</td>\n",
       "      <td>58</td>\n",
       "      <td>CAM</td>\n",
       "      <td>CAM CM</td>\n",
       "      <td>https://cdn.sofifa.com/players/259/090/20_120.png</td>\n",
       "      <td>...</td>\n",
       "      <td>52+2</td>\n",
       "      <td>52+2</td>\n",
       "      <td>53+2</td>\n",
       "      <td>52+2</td>\n",
       "      <td>49+2</td>\n",
       "      <td>49+2</td>\n",
       "      <td>49+2</td>\n",
       "      <td>52+2</td>\n",
       "      <td>17+2</td>\n",
       "      <td>Male</td>\n",
       "    </tr>\n",
       "    <tr>\n",
       "      <th>17122</th>\n",
       "      <td>259091</td>\n",
       "      <td>C. Barrett</td>\n",
       "      <td>18</td>\n",
       "      <td>56</td>\n",
       "      <td>England</td>\n",
       "      <td>Burnley</td>\n",
       "      <td>56</td>\n",
       "      <td>RB</td>\n",
       "      <td>RB</td>\n",
       "      <td>https://cdn.sofifa.com/players/259/091/20_120.png</td>\n",
       "      <td>...</td>\n",
       "      <td>50+2</td>\n",
       "      <td>50+2</td>\n",
       "      <td>54+2</td>\n",
       "      <td>54+2</td>\n",
       "      <td>54+2</td>\n",
       "      <td>54+2</td>\n",
       "      <td>54+2</td>\n",
       "      <td>54+2</td>\n",
       "      <td>14+2</td>\n",
       "      <td>Male</td>\n",
       "    </tr>\n",
       "    <tr>\n",
       "      <th>17123</th>\n",
       "      <td>259101</td>\n",
       "      <td>J. Gazibegović</td>\n",
       "      <td>20</td>\n",
       "      <td>62</td>\n",
       "      <td>Bosnia Herzegovina</td>\n",
       "      <td>SK Sturm Graz</td>\n",
       "      <td>62</td>\n",
       "      <td>RB</td>\n",
       "      <td>RB LB</td>\n",
       "      <td>https://cdn.sofifa.com/players/259/101/20_120.png</td>\n",
       "      <td>...</td>\n",
       "      <td>58+2</td>\n",
       "      <td>58+2</td>\n",
       "      <td>60+2</td>\n",
       "      <td>60+2</td>\n",
       "      <td>58+2</td>\n",
       "      <td>58+2</td>\n",
       "      <td>58+2</td>\n",
       "      <td>60+2</td>\n",
       "      <td>16+2</td>\n",
       "      <td>Male</td>\n",
       "    </tr>\n",
       "    <tr>\n",
       "      <th>17124</th>\n",
       "      <td>259105</td>\n",
       "      <td>Pablo Rodríguez</td>\n",
       "      <td>18</td>\n",
       "      <td>59</td>\n",
       "      <td>Spain</td>\n",
       "      <td>Lecce</td>\n",
       "      <td>61</td>\n",
       "      <td>ST</td>\n",
       "      <td>ST</td>\n",
       "      <td>https://cdn.sofifa.com/players/259/105/20_120.png</td>\n",
       "      <td>...</td>\n",
       "      <td>32+2</td>\n",
       "      <td>32+2</td>\n",
       "      <td>36+2</td>\n",
       "      <td>34+2</td>\n",
       "      <td>30+2</td>\n",
       "      <td>30+2</td>\n",
       "      <td>30+2</td>\n",
       "      <td>34+2</td>\n",
       "      <td>14+2</td>\n",
       "      <td>Male</td>\n",
       "    </tr>\n",
       "  </tbody>\n",
       "</table>\n",
       "<p>17125 rows × 107 columns</p>\n",
       "</div>"
      ],
      "text/plain": [
       "           ID             Name  Age  OVA            Nationality  \\\n",
       "0           2      G. Pasquale   33   69                  Italy   \n",
       "1          16      Luis García   37   71                  Spain   \n",
       "2          27          J. Cole   33   71                England   \n",
       "3          36         D. Yorke   36   68  Trinidad &amp; Tobago   \n",
       "4          41          Iniesta   36   81                  Spain   \n",
       "...       ...              ...  ...  ...                    ...   \n",
       "17120  259088       A. Medioub   22   64                 France   \n",
       "17121  259090       W. Rickard   18   56                  Wales   \n",
       "17122  259091       C. Barrett   18   56                England   \n",
       "17123  259101   J. Gazibegović   20   62     Bosnia Herzegovina   \n",
       "17124  259105  Pablo Rodríguez   18   59                  Spain   \n",
       "\n",
       "                Club  BOV   BP      Position  \\\n",
       "0            Udinese   71  LWB            LM   \n",
       "1          KAS Eupen   70   CM    CM CAM CDM   \n",
       "2      Coventry City   71  CAM  CAM RM RW LM   \n",
       "3         Sunderland   70   ST           NaN   \n",
       "4        Vissel Kobe   82  CAM        CM CAM   \n",
       "...              ...  ...  ...           ...   \n",
       "17120     CD Tondela   66   CB            CB   \n",
       "17121        Burnley   58  CAM        CAM CM   \n",
       "17122        Burnley   56   RB            RB   \n",
       "17123  SK Sturm Graz   62   RB         RB LB   \n",
       "17124          Lecce   61   ST            ST   \n",
       "\n",
       "                                            Player Photo  ...    CDM    RDM  \\\n",
       "0      https://cdn.sofifa.com/players/000/002/16_120.png  ...  70+-1  70+-1   \n",
       "1      https://cdn.sofifa.com/players/000/016/19_120.png  ...   66+1   66+1   \n",
       "2      https://cdn.sofifa.com/players/000/027/16_120.png  ...   54+0   54+0   \n",
       "3      https://cdn.sofifa.com/players/000/036/09_120.png  ...   65+0   65+0   \n",
       "4      https://cdn.sofifa.com/players/000/041/20_120.png  ...   73+3   73+3   \n",
       "...                                                  ...  ...    ...    ...   \n",
       "17120  https://cdn.sofifa.com/players/259/088/20_120.png  ...   55+2   55+2   \n",
       "17121  https://cdn.sofifa.com/players/259/090/20_120.png  ...   52+2   52+2   \n",
       "17122  https://cdn.sofifa.com/players/259/091/20_120.png  ...   50+2   50+2   \n",
       "17123  https://cdn.sofifa.com/players/259/101/20_120.png  ...   58+2   58+2   \n",
       "17124  https://cdn.sofifa.com/players/259/105/20_120.png  ...   32+2   32+2   \n",
       "\n",
       "         RWB     LB   LCB    CB   RCB     RB    GK Gender  \n",
       "0      71+-2  70+-1  69+0  69+0  69+0  70+-1  17+0   Male  \n",
       "1       62+1   60+1  60+1  60+1  60+1   60+1  17+1   Male  \n",
       "2       52+0   47+0  46+0  46+0  46+0   47+0  15+0   Male  \n",
       "3       56+0   57+0  51+0  51+0  51+0   57+0  22+0   Male  \n",
       "4       70+3   67+3  64+3  64+3  64+3   67+3  17+3   Male  \n",
       "...      ...    ...   ...   ...   ...    ...   ...    ...  \n",
       "17120   54+2   57+2  64+2  64+2  64+2   57+2  12+2   Male  \n",
       "17121   53+2   52+2  49+2  49+2  49+2   52+2  17+2   Male  \n",
       "17122   54+2   54+2  54+2  54+2  54+2   54+2  14+2   Male  \n",
       "17123   60+2   60+2  58+2  58+2  58+2   60+2  16+2   Male  \n",
       "17124   36+2   34+2  30+2  30+2  30+2   34+2  14+2   Male  \n",
       "\n",
       "[17125 rows x 107 columns]"
      ]
     },
     "execution_count": 209,
     "metadata": {},
     "output_type": "execute_result"
    }
   ],
   "source": [
    "data"
   ]
  },
  {
   "cell_type": "markdown",
   "id": "9a2488fc",
   "metadata": {},
   "source": [
    "4. Cleaning en wrangling"
   ]
  },
  {
   "cell_type": "code",
   "execution_count": 210,
   "id": "64d76485",
   "metadata": {},
   "outputs": [
    {
     "data": {
      "text/html": [
       "<div>\n",
       "<style scoped>\n",
       "    .dataframe tbody tr th:only-of-type {\n",
       "        vertical-align: middle;\n",
       "    }\n",
       "\n",
       "    .dataframe tbody tr th {\n",
       "        vertical-align: top;\n",
       "    }\n",
       "\n",
       "    .dataframe thead th {\n",
       "        text-align: right;\n",
       "    }\n",
       "</style>\n",
       "<table border=\"1\" class=\"dataframe\">\n",
       "  <thead>\n",
       "    <tr style=\"text-align: right;\">\n",
       "      <th></th>\n",
       "      <th>id</th>\n",
       "      <th>name</th>\n",
       "      <th>age</th>\n",
       "      <th>ova</th>\n",
       "      <th>nationality</th>\n",
       "      <th>club</th>\n",
       "      <th>bov</th>\n",
       "      <th>bp</th>\n",
       "      <th>position</th>\n",
       "      <th>player photo</th>\n",
       "      <th>...</th>\n",
       "      <th>cdm</th>\n",
       "      <th>rdm</th>\n",
       "      <th>rwb</th>\n",
       "      <th>lb</th>\n",
       "      <th>lcb</th>\n",
       "      <th>cb</th>\n",
       "      <th>rcb</th>\n",
       "      <th>rb</th>\n",
       "      <th>gk</th>\n",
       "      <th>gender</th>\n",
       "    </tr>\n",
       "  </thead>\n",
       "  <tbody>\n",
       "    <tr>\n",
       "      <th>0</th>\n",
       "      <td>2</td>\n",
       "      <td>G. Pasquale</td>\n",
       "      <td>33</td>\n",
       "      <td>69</td>\n",
       "      <td>Italy</td>\n",
       "      <td>Udinese</td>\n",
       "      <td>71</td>\n",
       "      <td>LWB</td>\n",
       "      <td>LM</td>\n",
       "      <td>https://cdn.sofifa.com/players/000/002/16_120.png</td>\n",
       "      <td>...</td>\n",
       "      <td>70+-1</td>\n",
       "      <td>70+-1</td>\n",
       "      <td>71+-2</td>\n",
       "      <td>70+-1</td>\n",
       "      <td>69+0</td>\n",
       "      <td>69+0</td>\n",
       "      <td>69+0</td>\n",
       "      <td>70+-1</td>\n",
       "      <td>17+0</td>\n",
       "      <td>Male</td>\n",
       "    </tr>\n",
       "    <tr>\n",
       "      <th>1</th>\n",
       "      <td>16</td>\n",
       "      <td>Luis García</td>\n",
       "      <td>37</td>\n",
       "      <td>71</td>\n",
       "      <td>Spain</td>\n",
       "      <td>KAS Eupen</td>\n",
       "      <td>70</td>\n",
       "      <td>CM</td>\n",
       "      <td>CM CAM CDM</td>\n",
       "      <td>https://cdn.sofifa.com/players/000/016/19_120.png</td>\n",
       "      <td>...</td>\n",
       "      <td>66+1</td>\n",
       "      <td>66+1</td>\n",
       "      <td>62+1</td>\n",
       "      <td>60+1</td>\n",
       "      <td>60+1</td>\n",
       "      <td>60+1</td>\n",
       "      <td>60+1</td>\n",
       "      <td>60+1</td>\n",
       "      <td>17+1</td>\n",
       "      <td>Male</td>\n",
       "    </tr>\n",
       "    <tr>\n",
       "      <th>2</th>\n",
       "      <td>27</td>\n",
       "      <td>J. Cole</td>\n",
       "      <td>33</td>\n",
       "      <td>71</td>\n",
       "      <td>England</td>\n",
       "      <td>Coventry City</td>\n",
       "      <td>71</td>\n",
       "      <td>CAM</td>\n",
       "      <td>CAM RM RW LM</td>\n",
       "      <td>https://cdn.sofifa.com/players/000/027/16_120.png</td>\n",
       "      <td>...</td>\n",
       "      <td>54+0</td>\n",
       "      <td>54+0</td>\n",
       "      <td>52+0</td>\n",
       "      <td>47+0</td>\n",
       "      <td>46+0</td>\n",
       "      <td>46+0</td>\n",
       "      <td>46+0</td>\n",
       "      <td>47+0</td>\n",
       "      <td>15+0</td>\n",
       "      <td>Male</td>\n",
       "    </tr>\n",
       "    <tr>\n",
       "      <th>3</th>\n",
       "      <td>36</td>\n",
       "      <td>D. Yorke</td>\n",
       "      <td>36</td>\n",
       "      <td>68</td>\n",
       "      <td>Trinidad &amp;amp; Tobago</td>\n",
       "      <td>Sunderland</td>\n",
       "      <td>70</td>\n",
       "      <td>ST</td>\n",
       "      <td>NaN</td>\n",
       "      <td>https://cdn.sofifa.com/players/000/036/09_120.png</td>\n",
       "      <td>...</td>\n",
       "      <td>65+0</td>\n",
       "      <td>65+0</td>\n",
       "      <td>56+0</td>\n",
       "      <td>57+0</td>\n",
       "      <td>51+0</td>\n",
       "      <td>51+0</td>\n",
       "      <td>51+0</td>\n",
       "      <td>57+0</td>\n",
       "      <td>22+0</td>\n",
       "      <td>Male</td>\n",
       "    </tr>\n",
       "    <tr>\n",
       "      <th>4</th>\n",
       "      <td>41</td>\n",
       "      <td>Iniesta</td>\n",
       "      <td>36</td>\n",
       "      <td>81</td>\n",
       "      <td>Spain</td>\n",
       "      <td>Vissel Kobe</td>\n",
       "      <td>82</td>\n",
       "      <td>CAM</td>\n",
       "      <td>CM CAM</td>\n",
       "      <td>https://cdn.sofifa.com/players/000/041/20_120.png</td>\n",
       "      <td>...</td>\n",
       "      <td>73+3</td>\n",
       "      <td>73+3</td>\n",
       "      <td>70+3</td>\n",
       "      <td>67+3</td>\n",
       "      <td>64+3</td>\n",
       "      <td>64+3</td>\n",
       "      <td>64+3</td>\n",
       "      <td>67+3</td>\n",
       "      <td>17+3</td>\n",
       "      <td>Male</td>\n",
       "    </tr>\n",
       "    <tr>\n",
       "      <th>...</th>\n",
       "      <td>...</td>\n",
       "      <td>...</td>\n",
       "      <td>...</td>\n",
       "      <td>...</td>\n",
       "      <td>...</td>\n",
       "      <td>...</td>\n",
       "      <td>...</td>\n",
       "      <td>...</td>\n",
       "      <td>...</td>\n",
       "      <td>...</td>\n",
       "      <td>...</td>\n",
       "      <td>...</td>\n",
       "      <td>...</td>\n",
       "      <td>...</td>\n",
       "      <td>...</td>\n",
       "      <td>...</td>\n",
       "      <td>...</td>\n",
       "      <td>...</td>\n",
       "      <td>...</td>\n",
       "      <td>...</td>\n",
       "      <td>...</td>\n",
       "    </tr>\n",
       "    <tr>\n",
       "      <th>17120</th>\n",
       "      <td>259088</td>\n",
       "      <td>A. Medioub</td>\n",
       "      <td>22</td>\n",
       "      <td>64</td>\n",
       "      <td>France</td>\n",
       "      <td>CD Tondela</td>\n",
       "      <td>66</td>\n",
       "      <td>CB</td>\n",
       "      <td>CB</td>\n",
       "      <td>https://cdn.sofifa.com/players/259/088/20_120.png</td>\n",
       "      <td>...</td>\n",
       "      <td>55+2</td>\n",
       "      <td>55+2</td>\n",
       "      <td>54+2</td>\n",
       "      <td>57+2</td>\n",
       "      <td>64+2</td>\n",
       "      <td>64+2</td>\n",
       "      <td>64+2</td>\n",
       "      <td>57+2</td>\n",
       "      <td>12+2</td>\n",
       "      <td>Male</td>\n",
       "    </tr>\n",
       "    <tr>\n",
       "      <th>17121</th>\n",
       "      <td>259090</td>\n",
       "      <td>W. Rickard</td>\n",
       "      <td>18</td>\n",
       "      <td>56</td>\n",
       "      <td>Wales</td>\n",
       "      <td>Burnley</td>\n",
       "      <td>58</td>\n",
       "      <td>CAM</td>\n",
       "      <td>CAM CM</td>\n",
       "      <td>https://cdn.sofifa.com/players/259/090/20_120.png</td>\n",
       "      <td>...</td>\n",
       "      <td>52+2</td>\n",
       "      <td>52+2</td>\n",
       "      <td>53+2</td>\n",
       "      <td>52+2</td>\n",
       "      <td>49+2</td>\n",
       "      <td>49+2</td>\n",
       "      <td>49+2</td>\n",
       "      <td>52+2</td>\n",
       "      <td>17+2</td>\n",
       "      <td>Male</td>\n",
       "    </tr>\n",
       "    <tr>\n",
       "      <th>17122</th>\n",
       "      <td>259091</td>\n",
       "      <td>C. Barrett</td>\n",
       "      <td>18</td>\n",
       "      <td>56</td>\n",
       "      <td>England</td>\n",
       "      <td>Burnley</td>\n",
       "      <td>56</td>\n",
       "      <td>RB</td>\n",
       "      <td>RB</td>\n",
       "      <td>https://cdn.sofifa.com/players/259/091/20_120.png</td>\n",
       "      <td>...</td>\n",
       "      <td>50+2</td>\n",
       "      <td>50+2</td>\n",
       "      <td>54+2</td>\n",
       "      <td>54+2</td>\n",
       "      <td>54+2</td>\n",
       "      <td>54+2</td>\n",
       "      <td>54+2</td>\n",
       "      <td>54+2</td>\n",
       "      <td>14+2</td>\n",
       "      <td>Male</td>\n",
       "    </tr>\n",
       "    <tr>\n",
       "      <th>17123</th>\n",
       "      <td>259101</td>\n",
       "      <td>J. Gazibegović</td>\n",
       "      <td>20</td>\n",
       "      <td>62</td>\n",
       "      <td>Bosnia Herzegovina</td>\n",
       "      <td>SK Sturm Graz</td>\n",
       "      <td>62</td>\n",
       "      <td>RB</td>\n",
       "      <td>RB LB</td>\n",
       "      <td>https://cdn.sofifa.com/players/259/101/20_120.png</td>\n",
       "      <td>...</td>\n",
       "      <td>58+2</td>\n",
       "      <td>58+2</td>\n",
       "      <td>60+2</td>\n",
       "      <td>60+2</td>\n",
       "      <td>58+2</td>\n",
       "      <td>58+2</td>\n",
       "      <td>58+2</td>\n",
       "      <td>60+2</td>\n",
       "      <td>16+2</td>\n",
       "      <td>Male</td>\n",
       "    </tr>\n",
       "    <tr>\n",
       "      <th>17124</th>\n",
       "      <td>259105</td>\n",
       "      <td>Pablo Rodríguez</td>\n",
       "      <td>18</td>\n",
       "      <td>59</td>\n",
       "      <td>Spain</td>\n",
       "      <td>Lecce</td>\n",
       "      <td>61</td>\n",
       "      <td>ST</td>\n",
       "      <td>ST</td>\n",
       "      <td>https://cdn.sofifa.com/players/259/105/20_120.png</td>\n",
       "      <td>...</td>\n",
       "      <td>32+2</td>\n",
       "      <td>32+2</td>\n",
       "      <td>36+2</td>\n",
       "      <td>34+2</td>\n",
       "      <td>30+2</td>\n",
       "      <td>30+2</td>\n",
       "      <td>30+2</td>\n",
       "      <td>34+2</td>\n",
       "      <td>14+2</td>\n",
       "      <td>Male</td>\n",
       "    </tr>\n",
       "  </tbody>\n",
       "</table>\n",
       "<p>17125 rows × 107 columns</p>\n",
       "</div>"
      ],
      "text/plain": [
       "           id             name  age  ova            nationality  \\\n",
       "0           2      G. Pasquale   33   69                  Italy   \n",
       "1          16      Luis García   37   71                  Spain   \n",
       "2          27          J. Cole   33   71                England   \n",
       "3          36         D. Yorke   36   68  Trinidad &amp; Tobago   \n",
       "4          41          Iniesta   36   81                  Spain   \n",
       "...       ...              ...  ...  ...                    ...   \n",
       "17120  259088       A. Medioub   22   64                 France   \n",
       "17121  259090       W. Rickard   18   56                  Wales   \n",
       "17122  259091       C. Barrett   18   56                England   \n",
       "17123  259101   J. Gazibegović   20   62     Bosnia Herzegovina   \n",
       "17124  259105  Pablo Rodríguez   18   59                  Spain   \n",
       "\n",
       "                club  bov   bp      position  \\\n",
       "0            Udinese   71  LWB            LM   \n",
       "1          KAS Eupen   70   CM    CM CAM CDM   \n",
       "2      Coventry City   71  CAM  CAM RM RW LM   \n",
       "3         Sunderland   70   ST           NaN   \n",
       "4        Vissel Kobe   82  CAM        CM CAM   \n",
       "...              ...  ...  ...           ...   \n",
       "17120     CD Tondela   66   CB            CB   \n",
       "17121        Burnley   58  CAM        CAM CM   \n",
       "17122        Burnley   56   RB            RB   \n",
       "17123  SK Sturm Graz   62   RB         RB LB   \n",
       "17124          Lecce   61   ST            ST   \n",
       "\n",
       "                                            player photo  ...    cdm    rdm  \\\n",
       "0      https://cdn.sofifa.com/players/000/002/16_120.png  ...  70+-1  70+-1   \n",
       "1      https://cdn.sofifa.com/players/000/016/19_120.png  ...   66+1   66+1   \n",
       "2      https://cdn.sofifa.com/players/000/027/16_120.png  ...   54+0   54+0   \n",
       "3      https://cdn.sofifa.com/players/000/036/09_120.png  ...   65+0   65+0   \n",
       "4      https://cdn.sofifa.com/players/000/041/20_120.png  ...   73+3   73+3   \n",
       "...                                                  ...  ...    ...    ...   \n",
       "17120  https://cdn.sofifa.com/players/259/088/20_120.png  ...   55+2   55+2   \n",
       "17121  https://cdn.sofifa.com/players/259/090/20_120.png  ...   52+2   52+2   \n",
       "17122  https://cdn.sofifa.com/players/259/091/20_120.png  ...   50+2   50+2   \n",
       "17123  https://cdn.sofifa.com/players/259/101/20_120.png  ...   58+2   58+2   \n",
       "17124  https://cdn.sofifa.com/players/259/105/20_120.png  ...   32+2   32+2   \n",
       "\n",
       "         rwb     lb   lcb    cb   rcb     rb    gk gender  \n",
       "0      71+-2  70+-1  69+0  69+0  69+0  70+-1  17+0   Male  \n",
       "1       62+1   60+1  60+1  60+1  60+1   60+1  17+1   Male  \n",
       "2       52+0   47+0  46+0  46+0  46+0   47+0  15+0   Male  \n",
       "3       56+0   57+0  51+0  51+0  51+0   57+0  22+0   Male  \n",
       "4       70+3   67+3  64+3  64+3  64+3   67+3  17+3   Male  \n",
       "...      ...    ...   ...   ...   ...    ...   ...    ...  \n",
       "17120   54+2   57+2  64+2  64+2  64+2   57+2  12+2   Male  \n",
       "17121   53+2   52+2  49+2  49+2  49+2   52+2  17+2   Male  \n",
       "17122   54+2   54+2  54+2  54+2  54+2   54+2  14+2   Male  \n",
       "17123   60+2   60+2  58+2  58+2  58+2   60+2  16+2   Male  \n",
       "17124   36+2   34+2  30+2  30+2  30+2   34+2  14+2   Male  \n",
       "\n",
       "[17125 rows x 107 columns]"
      ]
     },
     "execution_count": 210,
     "metadata": {},
     "output_type": "execute_result"
    }
   ],
   "source": [
    "data.columns = data.columns.str.lower()\n",
    "data"
   ]
  },
  {
   "cell_type": "markdown",
   "id": "a943b3c0",
   "metadata": {},
   "source": [
    "I can not see the colums, so there for I use this code"
   ]
  },
  {
   "cell_type": "code",
   "execution_count": 211,
   "id": "4264440f",
   "metadata": {
    "scrolled": true
   },
   "outputs": [
    {
     "data": {
      "text/plain": [
       "['id',\n",
       " 'name',\n",
       " 'age',\n",
       " 'ova',\n",
       " 'nationality',\n",
       " 'club',\n",
       " 'bov',\n",
       " 'bp',\n",
       " 'position',\n",
       " 'player photo',\n",
       " 'club logo',\n",
       " 'flag photo',\n",
       " 'pot',\n",
       " 'team & contract',\n",
       " 'height',\n",
       " 'weight',\n",
       " 'foot',\n",
       " 'growth',\n",
       " 'joined',\n",
       " 'loan date end',\n",
       " 'value',\n",
       " 'wage',\n",
       " 'release clause',\n",
       " 'contract',\n",
       " 'attacking',\n",
       " 'crossing',\n",
       " 'finishing',\n",
       " 'heading accuracy',\n",
       " 'short passing',\n",
       " 'volleys',\n",
       " 'skill',\n",
       " 'dribbling',\n",
       " 'curve',\n",
       " 'fk accuracy',\n",
       " 'long passing',\n",
       " 'ball control',\n",
       " 'movement',\n",
       " 'acceleration',\n",
       " 'sprint speed',\n",
       " 'agility',\n",
       " 'reactions',\n",
       " 'balance',\n",
       " 'power',\n",
       " 'shot power',\n",
       " 'jumping',\n",
       " 'stamina',\n",
       " 'strength',\n",
       " 'long shots',\n",
       " 'mentality',\n",
       " 'aggression',\n",
       " 'interceptions',\n",
       " 'positioning',\n",
       " 'vision',\n",
       " 'penalties',\n",
       " 'composure',\n",
       " 'defending',\n",
       " 'marking',\n",
       " 'standing tackle',\n",
       " 'sliding tackle',\n",
       " 'goalkeeping',\n",
       " 'gk diving',\n",
       " 'gk handling',\n",
       " 'gk kicking',\n",
       " 'gk positioning',\n",
       " 'gk reflexes',\n",
       " 'total stats',\n",
       " 'base stats',\n",
       " 'w/f',\n",
       " 'sm',\n",
       " 'a/w',\n",
       " 'd/w',\n",
       " 'ir',\n",
       " 'pac',\n",
       " 'sho',\n",
       " 'pas',\n",
       " 'dri',\n",
       " 'def',\n",
       " 'phy',\n",
       " 'hits',\n",
       " 'ls',\n",
       " 'st',\n",
       " 'rs',\n",
       " 'lw',\n",
       " 'lf',\n",
       " 'cf',\n",
       " 'rf',\n",
       " 'rw',\n",
       " 'lam',\n",
       " 'cam',\n",
       " 'ram',\n",
       " 'lm',\n",
       " 'lcm',\n",
       " 'cm',\n",
       " 'rcm',\n",
       " 'rm',\n",
       " 'lwb',\n",
       " 'ldm',\n",
       " 'cdm',\n",
       " 'rdm',\n",
       " 'rwb',\n",
       " 'lb',\n",
       " 'lcb',\n",
       " 'cb',\n",
       " 'rcb',\n",
       " 'rb',\n",
       " 'gk',\n",
       " 'gender']"
      ]
     },
     "execution_count": 211,
     "metadata": {},
     "output_type": "execute_result"
    }
   ],
   "source": [
    "cols = []\n",
    "for i in range(len(data.columns)):\n",
    "    cols.append(data.columns[i].lower())\n",
    "cols"
   ]
  },
  {
   "cell_type": "markdown",
   "id": "caa73321",
   "metadata": {},
   "source": [
    "Drop the columns I don't need"
   ]
  },
  {
   "cell_type": "code",
   "execution_count": 114,
   "id": "b2efc7bd",
   "metadata": {},
   "outputs": [],
   "source": [
    "cols_to_keep = ['power', 'shot power', 'jumping', 'stamina', 'strength', 'long shots', 'ova']"
   ]
  },
  {
   "cell_type": "code",
   "execution_count": 115,
   "id": "b2b42382",
   "metadata": {},
   "outputs": [],
   "source": [
    "x = ['power', 'shot power', 'jumping', 'stamina', 'strength', 'long shots']"
   ]
  },
  {
   "cell_type": "code",
   "execution_count": 116,
   "id": "f8845c1a",
   "metadata": {},
   "outputs": [],
   "source": [
    "y = ['ova']"
   ]
  },
  {
   "cell_type": "code",
   "execution_count": 117,
   "id": "0e8fee7b",
   "metadata": {
    "scrolled": true
   },
   "outputs": [],
   "source": [
    "data_4_regression = data.drop(data.columns.difference(cols_to_keep), axis=1)"
   ]
  },
  {
   "cell_type": "code",
   "execution_count": 118,
   "id": "f5c7198a",
   "metadata": {},
   "outputs": [],
   "source": [
    "df_x = data.drop(data.columns.difference(x), axis=1)"
   ]
  },
  {
   "cell_type": "code",
   "execution_count": 119,
   "id": "548ce8ba",
   "metadata": {},
   "outputs": [],
   "source": [
    "df_y = data.drop(data.columns.difference(y), axis=1)"
   ]
  },
  {
   "cell_type": "code",
   "execution_count": 120,
   "id": "a98b42f7",
   "metadata": {
    "scrolled": true
   },
   "outputs": [
    {
     "data": {
      "text/html": [
       "<div>\n",
       "<style scoped>\n",
       "    .dataframe tbody tr th:only-of-type {\n",
       "        vertical-align: middle;\n",
       "    }\n",
       "\n",
       "    .dataframe tbody tr th {\n",
       "        vertical-align: top;\n",
       "    }\n",
       "\n",
       "    .dataframe thead th {\n",
       "        text-align: right;\n",
       "    }\n",
       "</style>\n",
       "<table border=\"1\" class=\"dataframe\">\n",
       "  <thead>\n",
       "    <tr style=\"text-align: right;\">\n",
       "      <th></th>\n",
       "      <th>ova</th>\n",
       "      <th>power</th>\n",
       "      <th>shot power</th>\n",
       "      <th>jumping</th>\n",
       "      <th>stamina</th>\n",
       "      <th>strength</th>\n",
       "      <th>long shots</th>\n",
       "    </tr>\n",
       "  </thead>\n",
       "  <tbody>\n",
       "    <tr>\n",
       "      <th>0</th>\n",
       "      <td>69</td>\n",
       "      <td>347</td>\n",
       "      <td>74</td>\n",
       "      <td>68.0</td>\n",
       "      <td>69</td>\n",
       "      <td>68</td>\n",
       "      <td>68</td>\n",
       "    </tr>\n",
       "    <tr>\n",
       "      <th>1</th>\n",
       "      <td>71</td>\n",
       "      <td>324</td>\n",
       "      <td>75</td>\n",
       "      <td>54.0</td>\n",
       "      <td>64</td>\n",
       "      <td>60</td>\n",
       "      <td>71</td>\n",
       "    </tr>\n",
       "    <tr>\n",
       "      <th>2</th>\n",
       "      <td>71</td>\n",
       "      <td>284</td>\n",
       "      <td>72</td>\n",
       "      <td>58.0</td>\n",
       "      <td>29</td>\n",
       "      <td>56</td>\n",
       "      <td>69</td>\n",
       "    </tr>\n",
       "    <tr>\n",
       "      <th>3</th>\n",
       "      <td>68</td>\n",
       "      <td>239</td>\n",
       "      <td>63</td>\n",
       "      <td>NaN</td>\n",
       "      <td>51</td>\n",
       "      <td>66</td>\n",
       "      <td>59</td>\n",
       "    </tr>\n",
       "    <tr>\n",
       "      <th>4</th>\n",
       "      <td>81</td>\n",
       "      <td>297</td>\n",
       "      <td>67</td>\n",
       "      <td>40.0</td>\n",
       "      <td>58</td>\n",
       "      <td>62</td>\n",
       "      <td>70</td>\n",
       "    </tr>\n",
       "    <tr>\n",
       "      <th>...</th>\n",
       "      <td>...</td>\n",
       "      <td>...</td>\n",
       "      <td>...</td>\n",
       "      <td>...</td>\n",
       "      <td>...</td>\n",
       "      <td>...</td>\n",
       "      <td>...</td>\n",
       "    </tr>\n",
       "    <tr>\n",
       "      <th>17120</th>\n",
       "      <td>64</td>\n",
       "      <td>279</td>\n",
       "      <td>48</td>\n",
       "      <td>70.0</td>\n",
       "      <td>59</td>\n",
       "      <td>74</td>\n",
       "      <td>28</td>\n",
       "    </tr>\n",
       "    <tr>\n",
       "      <th>17121</th>\n",
       "      <td>56</td>\n",
       "      <td>271</td>\n",
       "      <td>51</td>\n",
       "      <td>62.0</td>\n",
       "      <td>53</td>\n",
       "      <td>57</td>\n",
       "      <td>48</td>\n",
       "    </tr>\n",
       "    <tr>\n",
       "      <th>17122</th>\n",
       "      <td>56</td>\n",
       "      <td>233</td>\n",
       "      <td>28</td>\n",
       "      <td>61.0</td>\n",
       "      <td>53</td>\n",
       "      <td>54</td>\n",
       "      <td>37</td>\n",
       "    </tr>\n",
       "    <tr>\n",
       "      <th>17123</th>\n",
       "      <td>62</td>\n",
       "      <td>261</td>\n",
       "      <td>51</td>\n",
       "      <td>72.0</td>\n",
       "      <td>57</td>\n",
       "      <td>48</td>\n",
       "      <td>33</td>\n",
       "    </tr>\n",
       "    <tr>\n",
       "      <th>17124</th>\n",
       "      <td>59</td>\n",
       "      <td>288</td>\n",
       "      <td>58</td>\n",
       "      <td>62.0</td>\n",
       "      <td>55</td>\n",
       "      <td>52</td>\n",
       "      <td>61</td>\n",
       "    </tr>\n",
       "  </tbody>\n",
       "</table>\n",
       "<p>17125 rows × 7 columns</p>\n",
       "</div>"
      ],
      "text/plain": [
       "       ova  power  shot power  jumping  stamina  strength  long shots\n",
       "0       69    347          74     68.0       69        68          68\n",
       "1       71    324          75     54.0       64        60          71\n",
       "2       71    284          72     58.0       29        56          69\n",
       "3       68    239          63      NaN       51        66          59\n",
       "4       81    297          67     40.0       58        62          70\n",
       "...    ...    ...         ...      ...      ...       ...         ...\n",
       "17120   64    279          48     70.0       59        74          28\n",
       "17121   56    271          51     62.0       53        57          48\n",
       "17122   56    233          28     61.0       53        54          37\n",
       "17123   62    261          51     72.0       57        48          33\n",
       "17124   59    288          58     62.0       55        52          61\n",
       "\n",
       "[17125 rows x 7 columns]"
      ]
     },
     "execution_count": 120,
     "metadata": {},
     "output_type": "execute_result"
    }
   ],
   "source": [
    "data_4_regression"
   ]
  },
  {
   "cell_type": "markdown",
   "id": "73ea4a57",
   "metadata": {},
   "source": [
    "Checking the data types"
   ]
  },
  {
   "cell_type": "code",
   "execution_count": 122,
   "id": "7d74c8f1",
   "metadata": {},
   "outputs": [
    {
     "data": {
      "text/plain": [
       "ova             int64\n",
       "power           int64\n",
       "shot power      int64\n",
       "jumping       float64\n",
       "stamina         int64\n",
       "strength        int64\n",
       "long shots      int64\n",
       "dtype: object"
      ]
     },
     "execution_count": 122,
     "metadata": {},
     "output_type": "execute_result"
    }
   ],
   "source": [
    "data_4_regression.dtypes"
   ]
  },
  {
   "cell_type": "markdown",
   "id": "c21055fa",
   "metadata": {},
   "source": [
    "Checking the nulls"
   ]
  },
  {
   "cell_type": "code",
   "execution_count": 123,
   "id": "a5fd1779",
   "metadata": {
    "scrolled": false
   },
   "outputs": [
    {
     "data": {
      "text/html": [
       "<div>\n",
       "<style scoped>\n",
       "    .dataframe tbody tr th:only-of-type {\n",
       "        vertical-align: middle;\n",
       "    }\n",
       "\n",
       "    .dataframe tbody tr th {\n",
       "        vertical-align: top;\n",
       "    }\n",
       "\n",
       "    .dataframe thead th {\n",
       "        text-align: right;\n",
       "    }\n",
       "</style>\n",
       "<table border=\"1\" class=\"dataframe\">\n",
       "  <thead>\n",
       "    <tr style=\"text-align: right;\">\n",
       "      <th></th>\n",
       "      <th>ova</th>\n",
       "      <th>power</th>\n",
       "      <th>shot power</th>\n",
       "      <th>jumping</th>\n",
       "      <th>stamina</th>\n",
       "      <th>strength</th>\n",
       "      <th>long shots</th>\n",
       "    </tr>\n",
       "  </thead>\n",
       "  <tbody>\n",
       "    <tr>\n",
       "      <th>0</th>\n",
       "      <td>False</td>\n",
       "      <td>False</td>\n",
       "      <td>False</td>\n",
       "      <td>False</td>\n",
       "      <td>False</td>\n",
       "      <td>False</td>\n",
       "      <td>False</td>\n",
       "    </tr>\n",
       "    <tr>\n",
       "      <th>1</th>\n",
       "      <td>False</td>\n",
       "      <td>False</td>\n",
       "      <td>False</td>\n",
       "      <td>False</td>\n",
       "      <td>False</td>\n",
       "      <td>False</td>\n",
       "      <td>False</td>\n",
       "    </tr>\n",
       "    <tr>\n",
       "      <th>2</th>\n",
       "      <td>False</td>\n",
       "      <td>False</td>\n",
       "      <td>False</td>\n",
       "      <td>False</td>\n",
       "      <td>False</td>\n",
       "      <td>False</td>\n",
       "      <td>False</td>\n",
       "    </tr>\n",
       "    <tr>\n",
       "      <th>3</th>\n",
       "      <td>False</td>\n",
       "      <td>False</td>\n",
       "      <td>False</td>\n",
       "      <td>True</td>\n",
       "      <td>False</td>\n",
       "      <td>False</td>\n",
       "      <td>False</td>\n",
       "    </tr>\n",
       "    <tr>\n",
       "      <th>4</th>\n",
       "      <td>False</td>\n",
       "      <td>False</td>\n",
       "      <td>False</td>\n",
       "      <td>False</td>\n",
       "      <td>False</td>\n",
       "      <td>False</td>\n",
       "      <td>False</td>\n",
       "    </tr>\n",
       "    <tr>\n",
       "      <th>...</th>\n",
       "      <td>...</td>\n",
       "      <td>...</td>\n",
       "      <td>...</td>\n",
       "      <td>...</td>\n",
       "      <td>...</td>\n",
       "      <td>...</td>\n",
       "      <td>...</td>\n",
       "    </tr>\n",
       "    <tr>\n",
       "      <th>17120</th>\n",
       "      <td>False</td>\n",
       "      <td>False</td>\n",
       "      <td>False</td>\n",
       "      <td>False</td>\n",
       "      <td>False</td>\n",
       "      <td>False</td>\n",
       "      <td>False</td>\n",
       "    </tr>\n",
       "    <tr>\n",
       "      <th>17121</th>\n",
       "      <td>False</td>\n",
       "      <td>False</td>\n",
       "      <td>False</td>\n",
       "      <td>False</td>\n",
       "      <td>False</td>\n",
       "      <td>False</td>\n",
       "      <td>False</td>\n",
       "    </tr>\n",
       "    <tr>\n",
       "      <th>17122</th>\n",
       "      <td>False</td>\n",
       "      <td>False</td>\n",
       "      <td>False</td>\n",
       "      <td>False</td>\n",
       "      <td>False</td>\n",
       "      <td>False</td>\n",
       "      <td>False</td>\n",
       "    </tr>\n",
       "    <tr>\n",
       "      <th>17123</th>\n",
       "      <td>False</td>\n",
       "      <td>False</td>\n",
       "      <td>False</td>\n",
       "      <td>False</td>\n",
       "      <td>False</td>\n",
       "      <td>False</td>\n",
       "      <td>False</td>\n",
       "    </tr>\n",
       "    <tr>\n",
       "      <th>17124</th>\n",
       "      <td>False</td>\n",
       "      <td>False</td>\n",
       "      <td>False</td>\n",
       "      <td>False</td>\n",
       "      <td>False</td>\n",
       "      <td>False</td>\n",
       "      <td>False</td>\n",
       "    </tr>\n",
       "  </tbody>\n",
       "</table>\n",
       "<p>17125 rows × 7 columns</p>\n",
       "</div>"
      ],
      "text/plain": [
       "         ova  power  shot power  jumping  stamina  strength  long shots\n",
       "0      False  False       False    False    False     False       False\n",
       "1      False  False       False    False    False     False       False\n",
       "2      False  False       False    False    False     False       False\n",
       "3      False  False       False     True    False     False       False\n",
       "4      False  False       False    False    False     False       False\n",
       "...      ...    ...         ...      ...      ...       ...         ...\n",
       "17120  False  False       False    False    False     False       False\n",
       "17121  False  False       False    False    False     False       False\n",
       "17122  False  False       False    False    False     False       False\n",
       "17123  False  False       False    False    False     False       False\n",
       "17124  False  False       False    False    False     False       False\n",
       "\n",
       "[17125 rows x 7 columns]"
      ]
     },
     "execution_count": 123,
     "metadata": {},
     "output_type": "execute_result"
    }
   ],
   "source": [
    "data_4_regression.isna()"
   ]
  },
  {
   "cell_type": "code",
   "execution_count": 124,
   "id": "306270a6",
   "metadata": {},
   "outputs": [
    {
     "name": "stdout",
     "output_type": "stream",
     "text": [
      "Count of NaN: 58\n"
     ]
    }
   ],
   "source": [
    "count_nan = data_4_regression.isna().sum().sum()\n",
    "\n",
    "print ('Count of NaN: ' + str(count_nan))"
   ]
  },
  {
   "cell_type": "markdown",
   "id": "85138a40",
   "metadata": {},
   "source": [
    "Checking the mean to replace the nulls with the mean."
   ]
  },
  {
   "cell_type": "code",
   "execution_count": 125,
   "id": "7059962d",
   "metadata": {},
   "outputs": [
    {
     "name": "stdout",
     "output_type": "stream",
     "text": [
      "66.96502189781022\n"
     ]
    }
   ],
   "source": [
    "mean_ova = data_4_regression['ova'].mean()\n",
    "print(mean_ova)"
   ]
  },
  {
   "cell_type": "code",
   "execution_count": 126,
   "id": "2a76f5c9",
   "metadata": {},
   "outputs": [
    {
     "name": "stdout",
     "output_type": "stream",
     "text": [
      "302.41477372262773\n"
     ]
    }
   ],
   "source": [
    "mean_power = data_4_regression['power'].mean()\n",
    "print(mean_power)"
   ]
  },
  {
   "cell_type": "code",
   "execution_count": 127,
   "id": "8e271639",
   "metadata": {},
   "outputs": [
    {
     "name": "stdout",
     "output_type": "stream",
     "text": [
      "59.711416058394164\n"
     ]
    }
   ],
   "source": [
    "mean_shotpower = data_4_regression['shot power'].mean()\n",
    "print(mean_shotpower)"
   ]
  },
  {
   "cell_type": "code",
   "execution_count": 128,
   "id": "285bfc46",
   "metadata": {},
   "outputs": [
    {
     "name": "stdout",
     "output_type": "stream",
     "text": [
      "65.17021151930626\n"
     ]
    }
   ],
   "source": [
    "mean_jumping = data_4_regression['jumping'].mean()\n",
    "print(mean_jumping)"
   ]
  },
  {
   "cell_type": "code",
   "execution_count": 129,
   "id": "066b9417",
   "metadata": {},
   "outputs": [
    {
     "name": "stdout",
     "output_type": "stream",
     "text": [
      "63.30960583941606\n"
     ]
    }
   ],
   "source": [
    "mean_stamina = data_4_regression['stamina'].mean()\n",
    "print(mean_stamina)"
   ]
  },
  {
   "cell_type": "code",
   "execution_count": 130,
   "id": "0d3d7349",
   "metadata": {},
   "outputs": [
    {
     "name": "stdout",
     "output_type": "stream",
     "text": [
      "65.30855474452555\n"
     ]
    }
   ],
   "source": [
    "mean_strength = data_4_regression['strength'].mean()\n",
    "print(mean_strength)"
   ]
  },
  {
   "cell_type": "code",
   "execution_count": 131,
   "id": "916b5825",
   "metadata": {
    "scrolled": true
   },
   "outputs": [
    {
     "name": "stdout",
     "output_type": "stream",
     "text": [
      "49.13570802919708\n"
     ]
    }
   ],
   "source": [
    "mean_longshots = data_4_regression['long shots'].mean()\n",
    "print(mean_longshots)"
   ]
  },
  {
   "cell_type": "markdown",
   "id": "2facd223",
   "metadata": {},
   "source": [
    "I could also have used the data descrition"
   ]
  },
  {
   "cell_type": "code",
   "execution_count": 132,
   "id": "05e34f4b",
   "metadata": {},
   "outputs": [
    {
     "data": {
      "text/html": [
       "<div>\n",
       "<style scoped>\n",
       "    .dataframe tbody tr th:only-of-type {\n",
       "        vertical-align: middle;\n",
       "    }\n",
       "\n",
       "    .dataframe tbody tr th {\n",
       "        vertical-align: top;\n",
       "    }\n",
       "\n",
       "    .dataframe thead th {\n",
       "        text-align: right;\n",
       "    }\n",
       "</style>\n",
       "<table border=\"1\" class=\"dataframe\">\n",
       "  <thead>\n",
       "    <tr style=\"text-align: right;\">\n",
       "      <th></th>\n",
       "      <th>ova</th>\n",
       "      <th>power</th>\n",
       "      <th>shot power</th>\n",
       "      <th>jumping</th>\n",
       "      <th>stamina</th>\n",
       "      <th>strength</th>\n",
       "      <th>long shots</th>\n",
       "    </tr>\n",
       "  </thead>\n",
       "  <tbody>\n",
       "    <tr>\n",
       "      <th>count</th>\n",
       "      <td>17125.000000</td>\n",
       "      <td>17125.000000</td>\n",
       "      <td>17125.000000</td>\n",
       "      <td>17067.000000</td>\n",
       "      <td>17125.000000</td>\n",
       "      <td>17125.000000</td>\n",
       "      <td>17125.000000</td>\n",
       "    </tr>\n",
       "    <tr>\n",
       "      <th>mean</th>\n",
       "      <td>66.965022</td>\n",
       "      <td>302.414774</td>\n",
       "      <td>59.711416</td>\n",
       "      <td>65.170212</td>\n",
       "      <td>63.309606</td>\n",
       "      <td>65.308555</td>\n",
       "      <td>49.135708</td>\n",
       "    </tr>\n",
       "    <tr>\n",
       "      <th>std</th>\n",
       "      <td>6.864329</td>\n",
       "      <td>49.380576</td>\n",
       "      <td>13.417931</td>\n",
       "      <td>11.918063</td>\n",
       "      <td>15.313272</td>\n",
       "      <td>12.627212</td>\n",
       "      <td>19.044862</td>\n",
       "    </tr>\n",
       "    <tr>\n",
       "      <th>min</th>\n",
       "      <td>38.000000</td>\n",
       "      <td>128.000000</td>\n",
       "      <td>12.000000</td>\n",
       "      <td>22.000000</td>\n",
       "      <td>11.000000</td>\n",
       "      <td>16.000000</td>\n",
       "      <td>4.000000</td>\n",
       "    </tr>\n",
       "    <tr>\n",
       "      <th>25%</th>\n",
       "      <td>62.000000</td>\n",
       "      <td>272.000000</td>\n",
       "      <td>50.000000</td>\n",
       "      <td>58.000000</td>\n",
       "      <td>56.000000</td>\n",
       "      <td>58.000000</td>\n",
       "      <td>35.000000</td>\n",
       "    </tr>\n",
       "    <tr>\n",
       "      <th>50%</th>\n",
       "      <td>67.000000</td>\n",
       "      <td>308.000000</td>\n",
       "      <td>61.000000</td>\n",
       "      <td>66.000000</td>\n",
       "      <td>66.000000</td>\n",
       "      <td>67.000000</td>\n",
       "      <td>53.000000</td>\n",
       "    </tr>\n",
       "    <tr>\n",
       "      <th>75%</th>\n",
       "      <td>72.000000</td>\n",
       "      <td>339.000000</td>\n",
       "      <td>70.000000</td>\n",
       "      <td>73.000000</td>\n",
       "      <td>73.000000</td>\n",
       "      <td>74.000000</td>\n",
       "      <td>64.000000</td>\n",
       "    </tr>\n",
       "    <tr>\n",
       "      <th>max</th>\n",
       "      <td>93.000000</td>\n",
       "      <td>444.000000</td>\n",
       "      <td>95.000000</td>\n",
       "      <td>95.000000</td>\n",
       "      <td>97.000000</td>\n",
       "      <td>97.000000</td>\n",
       "      <td>94.000000</td>\n",
       "    </tr>\n",
       "  </tbody>\n",
       "</table>\n",
       "</div>"
      ],
      "text/plain": [
       "                ova         power    shot power       jumping       stamina  \\\n",
       "count  17125.000000  17125.000000  17125.000000  17067.000000  17125.000000   \n",
       "mean      66.965022    302.414774     59.711416     65.170212     63.309606   \n",
       "std        6.864329     49.380576     13.417931     11.918063     15.313272   \n",
       "min       38.000000    128.000000     12.000000     22.000000     11.000000   \n",
       "25%       62.000000    272.000000     50.000000     58.000000     56.000000   \n",
       "50%       67.000000    308.000000     61.000000     66.000000     66.000000   \n",
       "75%       72.000000    339.000000     70.000000     73.000000     73.000000   \n",
       "max       93.000000    444.000000     95.000000     95.000000     97.000000   \n",
       "\n",
       "           strength    long shots  \n",
       "count  17125.000000  17125.000000  \n",
       "mean      65.308555     49.135708  \n",
       "std       12.627212     19.044862  \n",
       "min       16.000000      4.000000  \n",
       "25%       58.000000     35.000000  \n",
       "50%       67.000000     53.000000  \n",
       "75%       74.000000     64.000000  \n",
       "max       97.000000     94.000000  "
      ]
     },
     "execution_count": 132,
     "metadata": {},
     "output_type": "execute_result"
    }
   ],
   "source": [
    "data_4_regression.describe()"
   ]
  },
  {
   "cell_type": "markdown",
   "id": "16d3ae62",
   "metadata": {},
   "source": [
    "I replace the nulls with the means"
   ]
  },
  {
   "cell_type": "code",
   "execution_count": 133,
   "id": "ea192500",
   "metadata": {
    "scrolled": true
   },
   "outputs": [
    {
     "name": "stdout",
     "output_type": "stream",
     "text": [
      "0        68.0\n",
      "1        54.0\n",
      "2        58.0\n",
      "3        65.0\n",
      "4        40.0\n",
      "         ... \n",
      "17120    70.0\n",
      "17121    62.0\n",
      "17122    61.0\n",
      "17123    72.0\n",
      "17124    62.0\n",
      "Name: jumping, Length: 17125, dtype: float64\n"
     ]
    }
   ],
   "source": [
    "data_for_regression_without_0_jumping = data_4_regression['jumping'].replace(np.nan,65.0)\n",
    "\n",
    "print(data_for_regression_without_0_jumping)"
   ]
  },
  {
   "cell_type": "code",
   "execution_count": 134,
   "id": "68188595",
   "metadata": {},
   "outputs": [
    {
     "name": "stdout",
     "output_type": "stream",
     "text": [
      "0        347\n",
      "1        324\n",
      "2        284\n",
      "3        239\n",
      "4        297\n",
      "        ... \n",
      "17120    279\n",
      "17121    271\n",
      "17122    233\n",
      "17123    261\n",
      "17124    288\n",
      "Name: power, Length: 17125, dtype: int64\n"
     ]
    }
   ],
   "source": [
    "data_for_regression_without_0_power = data_4_regression['power'].replace(np.nan,302)\n",
    "\n",
    "print(data_for_regression_without_0_power)"
   ]
  },
  {
   "cell_type": "code",
   "execution_count": 135,
   "id": "ff6b0d8d",
   "metadata": {},
   "outputs": [
    {
     "name": "stdout",
     "output_type": "stream",
     "text": [
      "0        74\n",
      "1        75\n",
      "2        72\n",
      "3        63\n",
      "4        67\n",
      "         ..\n",
      "17120    48\n",
      "17121    51\n",
      "17122    28\n",
      "17123    51\n",
      "17124    58\n",
      "Name: shot power, Length: 17125, dtype: int64\n"
     ]
    }
   ],
   "source": [
    "data_for_regression_without_0_shotpower = data_4_regression['shot power'].replace(np.nan,59)\n",
    "\n",
    "print(data_for_regression_without_0_shotpower)"
   ]
  },
  {
   "cell_type": "code",
   "execution_count": 136,
   "id": "5ab438f9",
   "metadata": {},
   "outputs": [
    {
     "name": "stdout",
     "output_type": "stream",
     "text": [
      "0        69\n",
      "1        64\n",
      "2        29\n",
      "3        51\n",
      "4        58\n",
      "         ..\n",
      "17120    59\n",
      "17121    53\n",
      "17122    53\n",
      "17123    57\n",
      "17124    55\n",
      "Name: stamina, Length: 17125, dtype: int64\n"
     ]
    }
   ],
   "source": [
    "data_for_regression_without_0_stamina = data_4_regression['stamina'].replace(np.nan,63)\n",
    "\n",
    "print(data_for_regression_without_0_stamina)"
   ]
  },
  {
   "cell_type": "code",
   "execution_count": 137,
   "id": "ce03db68",
   "metadata": {},
   "outputs": [
    {
     "name": "stdout",
     "output_type": "stream",
     "text": [
      "0        68\n",
      "1        60\n",
      "2        56\n",
      "3        66\n",
      "4        62\n",
      "         ..\n",
      "17120    74\n",
      "17121    57\n",
      "17122    54\n",
      "17123    48\n",
      "17124    52\n",
      "Name: strength, Length: 17125, dtype: int64\n"
     ]
    }
   ],
   "source": [
    "data_for_regression_without_0_strength = data_4_regression['strength'].replace(np.nan,65)\n",
    "\n",
    "print(data_for_regression_without_0_strength)"
   ]
  },
  {
   "cell_type": "code",
   "execution_count": 138,
   "id": "4fea9625",
   "metadata": {
    "scrolled": true
   },
   "outputs": [
    {
     "name": "stdout",
     "output_type": "stream",
     "text": [
      "0        69\n",
      "1        71\n",
      "2        71\n",
      "3        68\n",
      "4        81\n",
      "         ..\n",
      "17120    64\n",
      "17121    56\n",
      "17122    56\n",
      "17123    62\n",
      "17124    59\n",
      "Name: ova, Length: 17125, dtype: int64\n"
     ]
    }
   ],
   "source": [
    "data_for_regression_without_0_ova = data_4_regression['ova'].replace(np.nan,66)\n",
    "\n",
    "print(data_for_regression_without_0_ova)"
   ]
  },
  {
   "cell_type": "code",
   "execution_count": 139,
   "id": "7e395daf",
   "metadata": {
    "scrolled": true
   },
   "outputs": [
    {
     "name": "stdout",
     "output_type": "stream",
     "text": [
      "0        68\n",
      "1        71\n",
      "2        69\n",
      "3        59\n",
      "4        70\n",
      "         ..\n",
      "17120    28\n",
      "17121    48\n",
      "17122    37\n",
      "17123    33\n",
      "17124    61\n",
      "Name: long shots, Length: 17125, dtype: int64\n"
     ]
    }
   ],
   "source": [
    "data_for_regression_without_0_longshots = data_4_regression['long shots'].replace(np.nan,49)\n",
    "\n",
    "print(data_for_regression_without_0_longshots)"
   ]
  },
  {
   "cell_type": "markdown",
   "id": "f7ee0049",
   "metadata": {},
   "source": [
    "Now I create a new data set"
   ]
  },
  {
   "cell_type": "code",
   "execution_count": 140,
   "id": "0d490ee8",
   "metadata": {},
   "outputs": [
    {
     "data": {
      "text/html": [
       "<div>\n",
       "<style scoped>\n",
       "    .dataframe tbody tr th:only-of-type {\n",
       "        vertical-align: middle;\n",
       "    }\n",
       "\n",
       "    .dataframe tbody tr th {\n",
       "        vertical-align: top;\n",
       "    }\n",
       "\n",
       "    .dataframe thead th {\n",
       "        text-align: right;\n",
       "    }\n",
       "</style>\n",
       "<table border=\"1\" class=\"dataframe\">\n",
       "  <thead>\n",
       "    <tr style=\"text-align: right;\">\n",
       "      <th></th>\n",
       "      <th>ova</th>\n",
       "      <th>power</th>\n",
       "      <th>shot power</th>\n",
       "      <th>jumping</th>\n",
       "      <th>stamina</th>\n",
       "      <th>strength</th>\n",
       "      <th>long shots</th>\n",
       "    </tr>\n",
       "  </thead>\n",
       "  <tbody>\n",
       "    <tr>\n",
       "      <th>0</th>\n",
       "      <td>69</td>\n",
       "      <td>347</td>\n",
       "      <td>74</td>\n",
       "      <td>68.0</td>\n",
       "      <td>69</td>\n",
       "      <td>68</td>\n",
       "      <td>68</td>\n",
       "    </tr>\n",
       "    <tr>\n",
       "      <th>1</th>\n",
       "      <td>71</td>\n",
       "      <td>324</td>\n",
       "      <td>75</td>\n",
       "      <td>54.0</td>\n",
       "      <td>64</td>\n",
       "      <td>60</td>\n",
       "      <td>71</td>\n",
       "    </tr>\n",
       "    <tr>\n",
       "      <th>2</th>\n",
       "      <td>71</td>\n",
       "      <td>284</td>\n",
       "      <td>72</td>\n",
       "      <td>58.0</td>\n",
       "      <td>29</td>\n",
       "      <td>56</td>\n",
       "      <td>69</td>\n",
       "    </tr>\n",
       "    <tr>\n",
       "      <th>3</th>\n",
       "      <td>68</td>\n",
       "      <td>239</td>\n",
       "      <td>63</td>\n",
       "      <td>65.0</td>\n",
       "      <td>51</td>\n",
       "      <td>66</td>\n",
       "      <td>59</td>\n",
       "    </tr>\n",
       "    <tr>\n",
       "      <th>4</th>\n",
       "      <td>81</td>\n",
       "      <td>297</td>\n",
       "      <td>67</td>\n",
       "      <td>40.0</td>\n",
       "      <td>58</td>\n",
       "      <td>62</td>\n",
       "      <td>70</td>\n",
       "    </tr>\n",
       "    <tr>\n",
       "      <th>...</th>\n",
       "      <td>...</td>\n",
       "      <td>...</td>\n",
       "      <td>...</td>\n",
       "      <td>...</td>\n",
       "      <td>...</td>\n",
       "      <td>...</td>\n",
       "      <td>...</td>\n",
       "    </tr>\n",
       "    <tr>\n",
       "      <th>17120</th>\n",
       "      <td>64</td>\n",
       "      <td>279</td>\n",
       "      <td>48</td>\n",
       "      <td>70.0</td>\n",
       "      <td>59</td>\n",
       "      <td>74</td>\n",
       "      <td>28</td>\n",
       "    </tr>\n",
       "    <tr>\n",
       "      <th>17121</th>\n",
       "      <td>56</td>\n",
       "      <td>271</td>\n",
       "      <td>51</td>\n",
       "      <td>62.0</td>\n",
       "      <td>53</td>\n",
       "      <td>57</td>\n",
       "      <td>48</td>\n",
       "    </tr>\n",
       "    <tr>\n",
       "      <th>17122</th>\n",
       "      <td>56</td>\n",
       "      <td>233</td>\n",
       "      <td>28</td>\n",
       "      <td>61.0</td>\n",
       "      <td>53</td>\n",
       "      <td>54</td>\n",
       "      <td>37</td>\n",
       "    </tr>\n",
       "    <tr>\n",
       "      <th>17123</th>\n",
       "      <td>62</td>\n",
       "      <td>261</td>\n",
       "      <td>51</td>\n",
       "      <td>72.0</td>\n",
       "      <td>57</td>\n",
       "      <td>48</td>\n",
       "      <td>33</td>\n",
       "    </tr>\n",
       "    <tr>\n",
       "      <th>17124</th>\n",
       "      <td>59</td>\n",
       "      <td>288</td>\n",
       "      <td>58</td>\n",
       "      <td>62.0</td>\n",
       "      <td>55</td>\n",
       "      <td>52</td>\n",
       "      <td>61</td>\n",
       "    </tr>\n",
       "  </tbody>\n",
       "</table>\n",
       "<p>17125 rows × 7 columns</p>\n",
       "</div>"
      ],
      "text/plain": [
       "       ova  power  shot power  jumping  stamina  strength  long shots\n",
       "0       69    347          74     68.0       69        68          68\n",
       "1       71    324          75     54.0       64        60          71\n",
       "2       71    284          72     58.0       29        56          69\n",
       "3       68    239          63     65.0       51        66          59\n",
       "4       81    297          67     40.0       58        62          70\n",
       "...    ...    ...         ...      ...      ...       ...         ...\n",
       "17120   64    279          48     70.0       59        74          28\n",
       "17121   56    271          51     62.0       53        57          48\n",
       "17122   56    233          28     61.0       53        54          37\n",
       "17123   62    261          51     72.0       57        48          33\n",
       "17124   59    288          58     62.0       55        52          61\n",
       "\n",
       "[17125 rows x 7 columns]"
      ]
     },
     "execution_count": 140,
     "metadata": {},
     "output_type": "execute_result"
    }
   ],
   "source": [
    "data_4_regression['ova'] = data_for_regression_without_0_ova\n",
    "data_4_regression['power'] = data_for_regression_without_0_power\n",
    "data_4_regression['shot power'] = data_for_regression_without_0_shotpower\n",
    "data_4_regression['jumping'] = data_for_regression_without_0_jumping\n",
    "data_4_regression['stamina'] = data_for_regression_without_0_stamina\n",
    "data_4_regression['strength'] = data_for_regression_without_0_strength\n",
    "data_4_regression['long shots'] = data_for_regression_without_0_longshots\n",
    "data_4_regression\n"
   ]
  },
  {
   "cell_type": "markdown",
   "id": "bc572a11",
   "metadata": {},
   "source": [
    "I check the nulls"
   ]
  },
  {
   "cell_type": "code",
   "execution_count": 141,
   "id": "a53f7e71",
   "metadata": {},
   "outputs": [
    {
     "name": "stdout",
     "output_type": "stream",
     "text": [
      "Count of NaN: 0\n"
     ]
    }
   ],
   "source": [
    "count_nan = data_4_regression.isna().sum().sum()\n",
    "\n",
    "print ('Count of NaN: ' + str(count_nan))"
   ]
  },
  {
   "cell_type": "markdown",
   "id": "99ddb19d",
   "metadata": {},
   "source": [
    "5 EDA"
   ]
  },
  {
   "cell_type": "code",
   "execution_count": 142,
   "id": "5faac236",
   "metadata": {},
   "outputs": [
    {
     "data": {
      "image/png": "[encoded data removed]",
      "text/plain": [
       "<Figure size 432x288 with 1 Axes>"
      ]
     },
     "metadata": {
      "needs_background": "light"
     },
     "output_type": "display_data"
    },
    {
     "data": {
      "image/png": "[encoded data removed]",
      "text/plain": [
       "<Figure size 432x288 with 1 Axes>"
      ]
     },
     "metadata": {
      "needs_background": "light"
     },
     "output_type": "display_data"
    },
    {
     "data": {
      "image/png": "[encoded data removed]",
      "text/plain": [
       "<Figure size 432x288 with 1 Axes>"
      ]
     },
     "metadata": {
      "needs_background": "light"
     },
     "output_type": "display_data"
    },
    {
     "data": {
      "image/png": "[encoded data removed]",
      "text/plain": [
       "<Figure size 432x288 with 1 Axes>"
      ]
     },
     "metadata": {
      "needs_background": "light"
     },
     "output_type": "display_data"
    },
    {
     "data": {
      "image/png": "[encoded data removed]",
      "text/plain": [
       "<Figure size 432x288 with 1 Axes>"
      ]
     },
     "metadata": {
      "needs_background": "light"
     },
     "output_type": "display_data"
    },
    {
     "data": {
      "image/png": "[encoded data removed]",
      "text/plain": [
       "<Figure size 432x288 with 1 Axes>"
      ]
     },
     "metadata": {
      "needs_background": "light"
     },
     "output_type": "display_data"
    },
    {
     "data": {
      "image/png": "[encoded data removed]",
      "text/plain": [
       "<Figure size 432x288 with 1 Axes>"
      ]
     },
     "metadata": {
      "needs_background": "light"
     },
     "output_type": "display_data"
    }
   ],
   "source": [
    "for col in data_4_regression.columns:\n",
    "    sns.distplot(data_4_regression[col])\n",
    "    plt.show()"
   ]
  },
  {
   "cell_type": "markdown",
   "id": "65f8f20c",
   "metadata": {},
   "source": [
    "What is the correlation between te variables?"
   ]
  },
  {
   "cell_type": "code",
   "execution_count": 143,
   "id": "feb9f07e",
   "metadata": {
    "scrolled": true
   },
   "outputs": [
    {
     "data": {
      "text/html": [
       "<div>\n",
       "<style scoped>\n",
       "    .dataframe tbody tr th:only-of-type {\n",
       "        vertical-align: middle;\n",
       "    }\n",
       "\n",
       "    .dataframe tbody tr th {\n",
       "        vertical-align: top;\n",
       "    }\n",
       "\n",
       "    .dataframe thead th {\n",
       "        text-align: right;\n",
       "    }\n",
       "</style>\n",
       "<table border=\"1\" class=\"dataframe\">\n",
       "  <thead>\n",
       "    <tr style=\"text-align: right;\">\n",
       "      <th></th>\n",
       "      <th>ova</th>\n",
       "      <th>power</th>\n",
       "      <th>shot power</th>\n",
       "      <th>jumping</th>\n",
       "      <th>stamina</th>\n",
       "      <th>strength</th>\n",
       "      <th>long shots</th>\n",
       "    </tr>\n",
       "  </thead>\n",
       "  <tbody>\n",
       "    <tr>\n",
       "      <th>ova</th>\n",
       "      <td>1.000000</td>\n",
       "      <td>0.546417</td>\n",
       "      <td>0.534829</td>\n",
       "      <td>0.258601</td>\n",
       "      <td>0.335108</td>\n",
       "      <td>0.338347</td>\n",
       "      <td>0.390849</td>\n",
       "    </tr>\n",
       "    <tr>\n",
       "      <th>power</th>\n",
       "      <td>0.546417</td>\n",
       "      <td>1.000000</td>\n",
       "      <td>0.766562</td>\n",
       "      <td>0.491956</td>\n",
       "      <td>0.761539</td>\n",
       "      <td>0.470354</td>\n",
       "      <td>0.808762</td>\n",
       "    </tr>\n",
       "    <tr>\n",
       "      <th>shot power</th>\n",
       "      <td>0.534829</td>\n",
       "      <td>0.766562</td>\n",
       "      <td>1.000000</td>\n",
       "      <td>0.108557</td>\n",
       "      <td>0.373183</td>\n",
       "      <td>0.169499</td>\n",
       "      <td>0.805135</td>\n",
       "    </tr>\n",
       "    <tr>\n",
       "      <th>jumping</th>\n",
       "      <td>0.258601</td>\n",
       "      <td>0.491956</td>\n",
       "      <td>0.108557</td>\n",
       "      <td>1.000000</td>\n",
       "      <td>0.320872</td>\n",
       "      <td>0.337261</td>\n",
       "      <td>0.092581</td>\n",
       "    </tr>\n",
       "    <tr>\n",
       "      <th>stamina</th>\n",
       "      <td>0.335108</td>\n",
       "      <td>0.761539</td>\n",
       "      <td>0.373183</td>\n",
       "      <td>0.320872</td>\n",
       "      <td>1.000000</td>\n",
       "      <td>0.230818</td>\n",
       "      <td>0.554911</td>\n",
       "    </tr>\n",
       "    <tr>\n",
       "      <th>strength</th>\n",
       "      <td>0.338347</td>\n",
       "      <td>0.470354</td>\n",
       "      <td>0.169499</td>\n",
       "      <td>0.337261</td>\n",
       "      <td>0.230818</td>\n",
       "      <td>1.000000</td>\n",
       "      <td>0.043355</td>\n",
       "    </tr>\n",
       "    <tr>\n",
       "      <th>long shots</th>\n",
       "      <td>0.390849</td>\n",
       "      <td>0.808762</td>\n",
       "      <td>0.805135</td>\n",
       "      <td>0.092581</td>\n",
       "      <td>0.554911</td>\n",
       "      <td>0.043355</td>\n",
       "      <td>1.000000</td>\n",
       "    </tr>\n",
       "  </tbody>\n",
       "</table>\n",
       "</div>"
      ],
      "text/plain": [
       "                 ova     power  shot power   jumping   stamina  strength  \\\n",
       "ova         1.000000  0.546417    0.534829  0.258601  0.335108  0.338347   \n",
       "power       0.546417  1.000000    0.766562  0.491956  0.761539  0.470354   \n",
       "shot power  0.534829  0.766562    1.000000  0.108557  0.373183  0.169499   \n",
       "jumping     0.258601  0.491956    0.108557  1.000000  0.320872  0.337261   \n",
       "stamina     0.335108  0.761539    0.373183  0.320872  1.000000  0.230818   \n",
       "strength    0.338347  0.470354    0.169499  0.337261  0.230818  1.000000   \n",
       "long shots  0.390849  0.808762    0.805135  0.092581  0.554911  0.043355   \n",
       "\n",
       "            long shots  \n",
       "ova           0.390849  \n",
       "power         0.808762  \n",
       "shot power    0.805135  \n",
       "jumping       0.092581  \n",
       "stamina       0.554911  \n",
       "strength      0.043355  \n",
       "long shots    1.000000  "
      ]
     },
     "execution_count": 143,
     "metadata": {},
     "output_type": "execute_result"
    }
   ],
   "source": [
    "data_4_regression.corr()"
   ]
  },
  {
   "cell_type": "code",
   "execution_count": 144,
   "id": "7ef1ba07",
   "metadata": {},
   "outputs": [
    {
     "data": {
      "image/png": "[encoded data removed]",
      "text/plain": [
       "<Figure size 432x288 with 2 Axes>"
      ]
     },
     "metadata": {
      "needs_background": "light"
     },
     "output_type": "display_data"
    }
   ],
   "source": [
    "sns_plot = sns.heatmap(data_4_regression.corr(), annot=True)\n",
    "figure = sns_plot.get_figure()    \n",
    "figure.savefig('svm_conf.png', dpi=400)\n",
    "plt.show()"
   ]
  },
  {
   "cell_type": "markdown",
   "id": "298ac8cd",
   "metadata": {},
   "source": [
    "I plot the ova with the other values. Starting the the values that have the highest correlation."
   ]
  },
  {
   "cell_type": "code",
   "execution_count": 145,
   "id": "281594eb",
   "metadata": {
    "scrolled": false
   },
   "outputs": [
    {
     "data": {
      "image/png": "[encoded data removed]",
      "text/plain": [
       "<Figure size 432x288 with 1 Axes>"
      ]
     },
     "metadata": {
      "needs_background": "light"
     },
     "output_type": "display_data"
    }
   ],
   "source": [
    "plt.scatter(data_4_regression['ova'], data_4_regression['power'])\n",
    "plt.show()"
   ]
  },
  {
   "cell_type": "code",
   "execution_count": 146,
   "id": "471eeaac",
   "metadata": {
    "scrolled": false
   },
   "outputs": [
    {
     "data": {
      "image/png": "[encoded data removed]",
      "text/plain": [
       "<Figure size 432x288 with 1 Axes>"
      ]
     },
     "metadata": {
      "needs_background": "light"
     },
     "output_type": "display_data"
    }
   ],
   "source": [
    "plt.scatter(data_4_regression['ova'], data_4_regression['shot power'])\n",
    "plt.show()"
   ]
  },
  {
   "cell_type": "code",
   "execution_count": 147,
   "id": "b3fe5b93",
   "metadata": {
    "scrolled": true
   },
   "outputs": [
    {
     "data": {
      "image/png": "[encoded data removed]",
      "text/plain": [
       "<Figure size 432x288 with 1 Axes>"
      ]
     },
     "metadata": {
      "needs_background": "light"
     },
     "output_type": "display_data"
    }
   ],
   "source": [
    "plt.scatter(data_4_regression['ova'], data_4_regression['strength'])\n",
    "plt.show()"
   ]
  },
  {
   "cell_type": "code",
   "execution_count": 148,
   "id": "c0243da8",
   "metadata": {},
   "outputs": [
    {
     "data": {
      "image/png": "[encoded data removed]",
      "text/plain": [
       "<Figure size 432x288 with 1 Axes>"
      ]
     },
     "metadata": {
      "needs_background": "light"
     },
     "output_type": "display_data"
    }
   ],
   "source": [
    "plt.scatter(data_4_regression['ova'], data_4_regression['stamina'])\n",
    "plt.show()"
   ]
  },
  {
   "cell_type": "code",
   "execution_count": 149,
   "id": "366e1029",
   "metadata": {
    "scrolled": true
   },
   "outputs": [
    {
     "data": {
      "image/png": "[encoded data removed]",
      "text/plain": [
       "<Figure size 432x288 with 1 Axes>"
      ]
     },
     "metadata": {
      "needs_background": "light"
     },
     "output_type": "display_data"
    }
   ],
   "source": [
    "plt.scatter(data_4_regression['ova'], data_4_regression['jumping'])\n",
    "plt.show()"
   ]
  },
  {
   "cell_type": "markdown",
   "id": "94720739",
   "metadata": {},
   "source": [
    "6. Analysing"
   ]
  },
  {
   "cell_type": "markdown",
   "id": "42580721",
   "metadata": {},
   "source": [
    "Make the model"
   ]
  },
  {
   "cell_type": "code",
   "execution_count": 173,
   "id": "e72f2cd4",
   "metadata": {
    "scrolled": true
   },
   "outputs": [],
   "source": [
    "X = data_4_regression.drop(['ova'], axis=1)\n",
    "y = data_4_regression['ova']"
   ]
  },
  {
   "cell_type": "code",
   "execution_count": 174,
   "id": "648912b6",
   "metadata": {},
   "outputs": [],
   "source": [
    "from sklearn.model_selection import train_test_split"
   ]
  },
  {
   "cell_type": "code",
   "execution_count": 187,
   "id": "bf12b141",
   "metadata": {},
   "outputs": [],
   "source": [
    "\n",
    "X_train, X_test, y_train, y_test = train_test_split(X, y, test_size=0.3, random_state=42)"
   ]
  },
  {
   "cell_type": "code",
   "execution_count": 188,
   "id": "56d58bb0",
   "metadata": {},
   "outputs": [
    {
     "data": {
      "text/plain": [
       "LinearRegression()"
      ]
     },
     "execution_count": 188,
     "metadata": {},
     "output_type": "execute_result"
    }
   ],
   "source": [
    "lm = LinearRegression() \n",
    "lm.fit(X_train, y_train) "
   ]
  },
  {
   "cell_type": "code",
   "execution_count": 206,
   "id": "5d684317",
   "metadata": {},
   "outputs": [
    {
     "name": "stdout",
     "output_type": "stream",
     "text": [
      "R2_score: 0.38\n",
      "RMSE: 5.391062993322687\n",
      "MAE: 4.279425134183728\n"
     ]
    }
   ],
   "source": [
    "predictions = lm.predict(X_test) # predict some values\n",
    "\n",
    "rmse = mean_squared_error(y_test, predictions, squared=False) # or mse with squared=True\n",
    "mae = mean_absolute_error(y_test, predictions)\n",
    "print(\"R2_score:\", round(lm.score(X,y),2)) # or r2_score(Y, predictions)\n",
    "print(\"RMSE:\", rmse)\n",
    "print(\"MAE:\", mae)"
   ]
  },
  {
   "cell_type": "markdown",
   "id": "5049bafa",
   "metadata": {},
   "source": [
    "y = ax + b\n",
    "a = coeffient \n",
    "b = slobe \n"
   ]
  },
  {
   "cell_type": "markdown",
   "id": "d1c27894",
   "metadata": {},
   "source": [
    "what is the slobe and the coeffient?"
   ]
  },
  {
   "cell_type": "code",
   "execution_count": 190,
   "id": "a650546b",
   "metadata": {},
   "outputs": [
    {
     "data": {
      "text/plain": [
       "array([-0.02446533,  0.31787239,  0.08294934,  0.08667548,  0.12013115,\n",
       "       -0.03525315])"
      ]
     },
     "execution_count": 190,
     "metadata": {},
     "output_type": "execute_result"
    }
   ],
   "source": [
    "lm.coef_"
   ]
  },
  {
   "cell_type": "code",
   "execution_count": 191,
   "id": "2d4d718d",
   "metadata": {
    "scrolled": true
   },
   "outputs": [
    {
     "data": {
      "text/plain": [
       "38.360941717872464"
      ]
     },
     "execution_count": 191,
     "metadata": {},
     "output_type": "execute_result"
    }
   ],
   "source": [
    "lm.intercept_"
   ]
  },
  {
   "cell_type": "code",
   "execution_count": 192,
   "id": "fafcfa4a",
   "metadata": {},
   "outputs": [],
   "source": [
    "def mypredi(x):\n",
    "    return (lm.coef_[0]*x['power'])+(lm.coef_[1]*x['shot power'])+(lm.coef_[2]*x['jumping'])+(lm.coef_[3]*x['stamina'])+(lm.coef_[4]*x['strength'])+(lm.coef_[5]*x['long shots'])+lm.intercept_"
   ]
  },
  {
   "cell_type": "code",
   "execution_count": 197,
   "id": "3f5e494e",
   "metadata": {
    "scrolled": false
   },
   "outputs": [
    {
     "data": {
      "text/plain": [
       "7046     65.732236\n",
       "14127    59.301874\n",
       "3508     71.888151\n",
       "10384    65.553168\n",
       "14640    64.785967\n",
       "           ...    \n",
       "11284    58.538533\n",
       "11964    60.303496\n",
       "5390     67.029603\n",
       "860      65.701494\n",
       "15795    65.268879\n",
       "Length: 11987, dtype: float64"
      ]
     },
     "execution_count": 197,
     "metadata": {},
     "output_type": "execute_result"
    }
   ],
   "source": [
    "X_train.apply(mypredi,axis=1)"
   ]
  },
  {
   "cell_type": "markdown",
   "id": "45d9a18d",
   "metadata": {},
   "source": [
    "Predict the results using lm.predict"
   ]
  },
  {
   "cell_type": "code",
   "execution_count": 198,
   "id": "b3dd4d6f",
   "metadata": {},
   "outputs": [],
   "source": [
    "result = X_test.copy()\n",
    "result['predictions'] = lm.predict(X_test)\n",
    "result['true'] = y_test.copy()"
   ]
  },
  {
   "cell_type": "code",
   "execution_count": 204,
   "id": "e2f27a61",
   "metadata": {
    "scrolled": true
   },
   "outputs": [
    {
     "data": {
      "text/html": [
       "<div>\n",
       "<style scoped>\n",
       "    .dataframe tbody tr th:only-of-type {\n",
       "        vertical-align: middle;\n",
       "    }\n",
       "\n",
       "    .dataframe tbody tr th {\n",
       "        vertical-align: top;\n",
       "    }\n",
       "\n",
       "    .dataframe thead th {\n",
       "        text-align: right;\n",
       "    }\n",
       "</style>\n",
       "<table border=\"1\" class=\"dataframe\">\n",
       "  <thead>\n",
       "    <tr style=\"text-align: right;\">\n",
       "      <th></th>\n",
       "      <th>power</th>\n",
       "      <th>shot power</th>\n",
       "      <th>jumping</th>\n",
       "      <th>stamina</th>\n",
       "      <th>strength</th>\n",
       "      <th>long shots</th>\n",
       "      <th>predictions</th>\n",
       "      <th>true</th>\n",
       "    </tr>\n",
       "  </thead>\n",
       "  <tbody>\n",
       "    <tr>\n",
       "      <th>15195</th>\n",
       "      <td>292</td>\n",
       "      <td>58</td>\n",
       "      <td>62.0</td>\n",
       "      <td>44</td>\n",
       "      <td>80</td>\n",
       "      <td>48</td>\n",
       "      <td>66.528586</td>\n",
       "      <td>59</td>\n",
       "    </tr>\n",
       "    <tr>\n",
       "      <th>14193</th>\n",
       "      <td>267</td>\n",
       "      <td>58</td>\n",
       "      <td>52.0</td>\n",
       "      <td>59</td>\n",
       "      <td>47</td>\n",
       "      <td>51</td>\n",
       "      <td>63.540771</td>\n",
       "      <td>65</td>\n",
       "    </tr>\n",
       "    <tr>\n",
       "      <th>16722</th>\n",
       "      <td>256</td>\n",
       "      <td>40</td>\n",
       "      <td>56.0</td>\n",
       "      <td>61</td>\n",
       "      <td>69</td>\n",
       "      <td>30</td>\n",
       "      <td>61.976536</td>\n",
       "      <td>62</td>\n",
       "    </tr>\n",
       "    <tr>\n",
       "      <th>8037</th>\n",
       "      <td>308</td>\n",
       "      <td>56</td>\n",
       "      <td>66.0</td>\n",
       "      <td>66</td>\n",
       "      <td>78</td>\n",
       "      <td>42</td>\n",
       "      <td>67.711311</td>\n",
       "      <td>68</td>\n",
       "    </tr>\n",
       "    <tr>\n",
       "      <th>6350</th>\n",
       "      <td>372</td>\n",
       "      <td>77</td>\n",
       "      <td>71.0</td>\n",
       "      <td>79</td>\n",
       "      <td>76</td>\n",
       "      <td>69</td>\n",
       "      <td>73.170281</td>\n",
       "      <td>76</td>\n",
       "    </tr>\n",
       "    <tr>\n",
       "      <th>...</th>\n",
       "      <td>...</td>\n",
       "      <td>...</td>\n",
       "      <td>...</td>\n",
       "      <td>...</td>\n",
       "      <td>...</td>\n",
       "      <td>...</td>\n",
       "      <td>...</td>\n",
       "      <td>...</td>\n",
       "    </tr>\n",
       "    <tr>\n",
       "      <th>7576</th>\n",
       "      <td>297</td>\n",
       "      <td>55</td>\n",
       "      <td>61.0</td>\n",
       "      <td>54</td>\n",
       "      <td>75</td>\n",
       "      <td>52</td>\n",
       "      <td>65.494780</td>\n",
       "      <td>61</td>\n",
       "    </tr>\n",
       "    <tr>\n",
       "      <th>2030</th>\n",
       "      <td>380</td>\n",
       "      <td>81</td>\n",
       "      <td>75.0</td>\n",
       "      <td>68</td>\n",
       "      <td>84</td>\n",
       "      <td>72</td>\n",
       "      <td>74.479705</td>\n",
       "      <td>77</td>\n",
       "    </tr>\n",
       "    <tr>\n",
       "      <th>11632</th>\n",
       "      <td>180</td>\n",
       "      <td>47</td>\n",
       "      <td>34.0</td>\n",
       "      <td>20</td>\n",
       "      <td>73</td>\n",
       "      <td>6</td>\n",
       "      <td>62.009028</td>\n",
       "      <td>65</td>\n",
       "    </tr>\n",
       "    <tr>\n",
       "      <th>39</th>\n",
       "      <td>254</td>\n",
       "      <td>72</td>\n",
       "      <td>65.0</td>\n",
       "      <td>58</td>\n",
       "      <td>59</td>\n",
       "      <td>65</td>\n",
       "      <td>70.248729</td>\n",
       "      <td>75</td>\n",
       "    </tr>\n",
       "    <tr>\n",
       "      <th>6141</th>\n",
       "      <td>341</td>\n",
       "      <td>73</td>\n",
       "      <td>82.0</td>\n",
       "      <td>65</td>\n",
       "      <td>56</td>\n",
       "      <td>65</td>\n",
       "      <td>70.094592</td>\n",
       "      <td>68</td>\n",
       "    </tr>\n",
       "  </tbody>\n",
       "</table>\n",
       "<p>5138 rows × 8 columns</p>\n",
       "</div>"
      ],
      "text/plain": [
       "       power  shot power  jumping  stamina  strength  long shots  predictions  \\\n",
       "15195    292          58     62.0       44        80          48    66.528586   \n",
       "14193    267          58     52.0       59        47          51    63.540771   \n",
       "16722    256          40     56.0       61        69          30    61.976536   \n",
       "8037     308          56     66.0       66        78          42    67.711311   \n",
       "6350     372          77     71.0       79        76          69    73.170281   \n",
       "...      ...         ...      ...      ...       ...         ...          ...   \n",
       "7576     297          55     61.0       54        75          52    65.494780   \n",
       "2030     380          81     75.0       68        84          72    74.479705   \n",
       "11632    180          47     34.0       20        73           6    62.009028   \n",
       "39       254          72     65.0       58        59          65    70.248729   \n",
       "6141     341          73     82.0       65        56          65    70.094592   \n",
       "\n",
       "       true  \n",
       "15195    59  \n",
       "14193    65  \n",
       "16722    62  \n",
       "8037     68  \n",
       "6350     76  \n",
       "...     ...  \n",
       "7576     61  \n",
       "2030     77  \n",
       "11632    65  \n",
       "39       75  \n",
       "6141     68  \n",
       "\n",
       "[5138 rows x 8 columns]"
      ]
     },
     "execution_count": 204,
     "metadata": {},
     "output_type": "execute_result"
    }
   ],
   "source": [
    "result"
   ]
  },
  {
   "cell_type": "code",
   "execution_count": 199,
   "id": "16b204b9",
   "metadata": {},
   "outputs": [
    {
     "data": {
      "text/html": [
       "<div>\n",
       "<style scoped>\n",
       "    .dataframe tbody tr th:only-of-type {\n",
       "        vertical-align: middle;\n",
       "    }\n",
       "\n",
       "    .dataframe tbody tr th {\n",
       "        vertical-align: top;\n",
       "    }\n",
       "\n",
       "    .dataframe thead th {\n",
       "        text-align: right;\n",
       "    }\n",
       "</style>\n",
       "<table border=\"1\" class=\"dataframe\">\n",
       "  <thead>\n",
       "    <tr style=\"text-align: right;\">\n",
       "      <th></th>\n",
       "      <th>power</th>\n",
       "      <th>shot power</th>\n",
       "      <th>jumping</th>\n",
       "      <th>stamina</th>\n",
       "      <th>strength</th>\n",
       "      <th>long shots</th>\n",
       "    </tr>\n",
       "  </thead>\n",
       "  <tbody>\n",
       "    <tr>\n",
       "      <th>15195</th>\n",
       "      <td>292</td>\n",
       "      <td>58</td>\n",
       "      <td>62.0</td>\n",
       "      <td>44</td>\n",
       "      <td>80</td>\n",
       "      <td>48</td>\n",
       "    </tr>\n",
       "    <tr>\n",
       "      <th>14193</th>\n",
       "      <td>267</td>\n",
       "      <td>58</td>\n",
       "      <td>52.0</td>\n",
       "      <td>59</td>\n",
       "      <td>47</td>\n",
       "      <td>51</td>\n",
       "    </tr>\n",
       "    <tr>\n",
       "      <th>16722</th>\n",
       "      <td>256</td>\n",
       "      <td>40</td>\n",
       "      <td>56.0</td>\n",
       "      <td>61</td>\n",
       "      <td>69</td>\n",
       "      <td>30</td>\n",
       "    </tr>\n",
       "    <tr>\n",
       "      <th>8037</th>\n",
       "      <td>308</td>\n",
       "      <td>56</td>\n",
       "      <td>66.0</td>\n",
       "      <td>66</td>\n",
       "      <td>78</td>\n",
       "      <td>42</td>\n",
       "    </tr>\n",
       "    <tr>\n",
       "      <th>6350</th>\n",
       "      <td>372</td>\n",
       "      <td>77</td>\n",
       "      <td>71.0</td>\n",
       "      <td>79</td>\n",
       "      <td>76</td>\n",
       "      <td>69</td>\n",
       "    </tr>\n",
       "    <tr>\n",
       "      <th>...</th>\n",
       "      <td>...</td>\n",
       "      <td>...</td>\n",
       "      <td>...</td>\n",
       "      <td>...</td>\n",
       "      <td>...</td>\n",
       "      <td>...</td>\n",
       "    </tr>\n",
       "    <tr>\n",
       "      <th>7576</th>\n",
       "      <td>297</td>\n",
       "      <td>55</td>\n",
       "      <td>61.0</td>\n",
       "      <td>54</td>\n",
       "      <td>75</td>\n",
       "      <td>52</td>\n",
       "    </tr>\n",
       "    <tr>\n",
       "      <th>2030</th>\n",
       "      <td>380</td>\n",
       "      <td>81</td>\n",
       "      <td>75.0</td>\n",
       "      <td>68</td>\n",
       "      <td>84</td>\n",
       "      <td>72</td>\n",
       "    </tr>\n",
       "    <tr>\n",
       "      <th>11632</th>\n",
       "      <td>180</td>\n",
       "      <td>47</td>\n",
       "      <td>34.0</td>\n",
       "      <td>20</td>\n",
       "      <td>73</td>\n",
       "      <td>6</td>\n",
       "    </tr>\n",
       "    <tr>\n",
       "      <th>39</th>\n",
       "      <td>254</td>\n",
       "      <td>72</td>\n",
       "      <td>65.0</td>\n",
       "      <td>58</td>\n",
       "      <td>59</td>\n",
       "      <td>65</td>\n",
       "    </tr>\n",
       "    <tr>\n",
       "      <th>6141</th>\n",
       "      <td>341</td>\n",
       "      <td>73</td>\n",
       "      <td>82.0</td>\n",
       "      <td>65</td>\n",
       "      <td>56</td>\n",
       "      <td>65</td>\n",
       "    </tr>\n",
       "  </tbody>\n",
       "</table>\n",
       "<p>5138 rows × 6 columns</p>\n",
       "</div>"
      ],
      "text/plain": [
       "       power  shot power  jumping  stamina  strength  long shots\n",
       "15195    292          58     62.0       44        80          48\n",
       "14193    267          58     52.0       59        47          51\n",
       "16722    256          40     56.0       61        69          30\n",
       "8037     308          56     66.0       66        78          42\n",
       "6350     372          77     71.0       79        76          69\n",
       "...      ...         ...      ...      ...       ...         ...\n",
       "7576     297          55     61.0       54        75          52\n",
       "2030     380          81     75.0       68        84          72\n",
       "11632    180          47     34.0       20        73           6\n",
       "39       254          72     65.0       58        59          65\n",
       "6141     341          73     82.0       65        56          65\n",
       "\n",
       "[5138 rows x 6 columns]"
      ]
     },
     "execution_count": 199,
     "metadata": {},
     "output_type": "execute_result"
    }
   ],
   "source": [
    "X_test"
   ]
  },
  {
   "cell_type": "code",
   "execution_count": 200,
   "id": "f20f7af9",
   "metadata": {
    "scrolled": false
   },
   "outputs": [
    {
     "data": {
      "text/html": [
       "<div>\n",
       "<style scoped>\n",
       "    .dataframe tbody tr th:only-of-type {\n",
       "        vertical-align: middle;\n",
       "    }\n",
       "\n",
       "    .dataframe tbody tr th {\n",
       "        vertical-align: top;\n",
       "    }\n",
       "\n",
       "    .dataframe thead th {\n",
       "        text-align: right;\n",
       "    }\n",
       "</style>\n",
       "<table border=\"1\" class=\"dataframe\">\n",
       "  <thead>\n",
       "    <tr style=\"text-align: right;\">\n",
       "      <th></th>\n",
       "      <th>power</th>\n",
       "      <th>shot power</th>\n",
       "      <th>jumping</th>\n",
       "      <th>stamina</th>\n",
       "      <th>strength</th>\n",
       "      <th>long shots</th>\n",
       "    </tr>\n",
       "  </thead>\n",
       "  <tbody>\n",
       "    <tr>\n",
       "      <th>7046</th>\n",
       "      <td>313</td>\n",
       "      <td>62</td>\n",
       "      <td>81.0</td>\n",
       "      <td>70</td>\n",
       "      <td>39</td>\n",
       "      <td>61</td>\n",
       "    </tr>\n",
       "    <tr>\n",
       "      <th>14127</th>\n",
       "      <td>268</td>\n",
       "      <td>25</td>\n",
       "      <td>64.0</td>\n",
       "      <td>87</td>\n",
       "      <td>64</td>\n",
       "      <td>28</td>\n",
       "    </tr>\n",
       "    <tr>\n",
       "      <th>3508</th>\n",
       "      <td>368</td>\n",
       "      <td>71</td>\n",
       "      <td>71.0</td>\n",
       "      <td>89</td>\n",
       "      <td>72</td>\n",
       "      <td>65</td>\n",
       "    </tr>\n",
       "    <tr>\n",
       "      <th>10384</th>\n",
       "      <td>289</td>\n",
       "      <td>66</td>\n",
       "      <td>40.0</td>\n",
       "      <td>62</td>\n",
       "      <td>57</td>\n",
       "      <td>64</td>\n",
       "    </tr>\n",
       "    <tr>\n",
       "      <th>14640</th>\n",
       "      <td>246</td>\n",
       "      <td>64</td>\n",
       "      <td>34.0</td>\n",
       "      <td>59</td>\n",
       "      <td>47</td>\n",
       "      <td>42</td>\n",
       "    </tr>\n",
       "    <tr>\n",
       "      <th>...</th>\n",
       "      <td>...</td>\n",
       "      <td>...</td>\n",
       "      <td>...</td>\n",
       "      <td>...</td>\n",
       "      <td>...</td>\n",
       "      <td>...</td>\n",
       "    </tr>\n",
       "    <tr>\n",
       "      <th>11284</th>\n",
       "      <td>245</td>\n",
       "      <td>31</td>\n",
       "      <td>66.0</td>\n",
       "      <td>68</td>\n",
       "      <td>50</td>\n",
       "      <td>30</td>\n",
       "    </tr>\n",
       "    <tr>\n",
       "      <th>11964</th>\n",
       "      <td>177</td>\n",
       "      <td>43</td>\n",
       "      <td>44.0</td>\n",
       "      <td>23</td>\n",
       "      <td>60</td>\n",
       "      <td>7</td>\n",
       "    </tr>\n",
       "    <tr>\n",
       "      <th>5390</th>\n",
       "      <td>329</td>\n",
       "      <td>63</td>\n",
       "      <td>60.0</td>\n",
       "      <td>83</td>\n",
       "      <td>57</td>\n",
       "      <td>66</td>\n",
       "    </tr>\n",
       "    <tr>\n",
       "      <th>860</th>\n",
       "      <td>300</td>\n",
       "      <td>53</td>\n",
       "      <td>65.0</td>\n",
       "      <td>68</td>\n",
       "      <td>68</td>\n",
       "      <td>46</td>\n",
       "    </tr>\n",
       "    <tr>\n",
       "      <th>15795</th>\n",
       "      <td>256</td>\n",
       "      <td>65</td>\n",
       "      <td>50.0</td>\n",
       "      <td>52</td>\n",
       "      <td>45</td>\n",
       "      <td>44</td>\n",
       "    </tr>\n",
       "  </tbody>\n",
       "</table>\n",
       "<p>11987 rows × 6 columns</p>\n",
       "</div>"
      ],
      "text/plain": [
       "       power  shot power  jumping  stamina  strength  long shots\n",
       "7046     313          62     81.0       70        39          61\n",
       "14127    268          25     64.0       87        64          28\n",
       "3508     368          71     71.0       89        72          65\n",
       "10384    289          66     40.0       62        57          64\n",
       "14640    246          64     34.0       59        47          42\n",
       "...      ...         ...      ...      ...       ...         ...\n",
       "11284    245          31     66.0       68        50          30\n",
       "11964    177          43     44.0       23        60           7\n",
       "5390     329          63     60.0       83        57          66\n",
       "860      300          53     65.0       68        68          46\n",
       "15795    256          65     50.0       52        45          44\n",
       "\n",
       "[11987 rows x 6 columns]"
      ]
     },
     "execution_count": 200,
     "metadata": {},
     "output_type": "execute_result"
    }
   ],
   "source": [
    "X_train"
   ]
  },
  {
   "cell_type": "markdown",
   "id": "4c36a4b8",
   "metadata": {},
   "source": [
    "What is the plot of the regression? "
   ]
  },
  {
   "cell_type": "code",
   "execution_count": 201,
   "id": "8b4bc401",
   "metadata": {},
   "outputs": [
    {
     "data": {
      "text/plain": [
       "<AxesSubplot:xlabel='true', ylabel='predictions'>"
      ]
     },
     "execution_count": 201,
     "metadata": {},
     "output_type": "execute_result"
    },
    {
     "data": {
      "image/png": "[encoded data removed]",
      "text/plain": [
       "<Figure size 432x288 with 1 Axes>"
      ]
     },
     "metadata": {
      "needs_background": "light"
     },
     "output_type": "display_data"
    }
   ],
   "source": [
    "sns.regplot(result['true'], result['predictions'])"
   ]
  },
  {
   "cell_type": "code",
   "execution_count": null,
   "id": "796e8ad8",
   "metadata": {},
   "outputs": [],
   "source": []
  },
  {
   "cell_type": "code",
   "execution_count": null,
   "id": "1fccef00",
   "metadata": {},
   "outputs": [],
   "source": []
  }
 ],
 "metadata": {
  "kernelspec": {
   "display_name": "Python 3",
   "language": "python",
   "name": "python3"
  },
  "language_info": {
   "codemirror_mode": {
    "name": "ipython",
    "version": 3
   },
   "file_extension": ".py",
   "mimetype": "text/x-python",
   "name": "python",
   "nbconvert_exporter": "python",
   "pygments_lexer": "ipython3",
   "version": "3.8.8"
  }
 },
 "nbformat": 4,
 "nbformat_minor": 5
}
